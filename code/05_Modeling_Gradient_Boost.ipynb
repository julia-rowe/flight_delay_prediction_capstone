{
 "cells": [
  {
   "cell_type": "markdown",
   "id": "0871e025-8fea-4956-a165-b8b23efef473",
   "metadata": {},
   "source": [
    "# Modeling - Gradient Boosting"
   ]
  },
  {
   "cell_type": "code",
   "execution_count": 1,
   "id": "051ac8cf-8f66-40d5-b1ec-a3235690b87f",
   "metadata": {},
   "outputs": [],
   "source": [
    "# Imports\n",
    "import numpy as np\n",
    "import pandas as pd\n",
    "import matplotlib.pyplot as plt\n",
    "import seaborn as sns\n",
    "\n",
    "from sklearn.preprocessing import StandardScaler\n",
    "from sklearn.model_selection import train_test_split, cross_val_score, GridSearchCV, RandomizedSearchCV\n",
    "from sklearn.pipeline import Pipeline\n",
    "from sklearn.ensemble import GradientBoostingClassifier\n",
    "from sklearn.metrics import recall_score, confusion_matrix, ConfusionMatrixDisplay, classification_report, accuracy_score, f1_score, plot_confusion_matrix, make_scorer\n",
    "from sklearn.metrics import roc_curve, auc, roc_auc_score"
   ]
  },
  {
   "cell_type": "code",
   "execution_count": 2,
   "id": "fa79054d-808e-4480-9c13-accce192d18b",
   "metadata": {},
   "outputs": [
    {
     "data": {
      "text/html": [
       "<div>\n",
       "<style scoped>\n",
       "    .dataframe tbody tr th:only-of-type {\n",
       "        vertical-align: middle;\n",
       "    }\n",
       "\n",
       "    .dataframe tbody tr th {\n",
       "        vertical-align: top;\n",
       "    }\n",
       "\n",
       "    .dataframe thead th {\n",
       "        text-align: right;\n",
       "    }\n",
       "</style>\n",
       "<table border=\"1\" class=\"dataframe\">\n",
       "  <thead>\n",
       "    <tr style=\"text-align: right;\">\n",
       "      <th></th>\n",
       "      <th>date</th>\n",
       "      <th>delay_severity</th>\n",
       "      <th>avg_wind_speed_lga</th>\n",
       "      <th>precipitation_lga</th>\n",
       "      <th>snowfall_lga</th>\n",
       "      <th>snow_depth_lga</th>\n",
       "      <th>average_temp_lga</th>\n",
       "      <th>max_temp_lga</th>\n",
       "      <th>min_temp_lga</th>\n",
       "      <th>wind_direction_fastest_2min_lga</th>\n",
       "      <th>...</th>\n",
       "      <th>6am-9am _dep</th>\n",
       "      <th>6pm-9pm _dep</th>\n",
       "      <th>9am-12pm _dep</th>\n",
       "      <th>9pm-12am _dep</th>\n",
       "      <th>12pm-3pm _arr</th>\n",
       "      <th>3pm-6pm _arr</th>\n",
       "      <th>6am-9am _arr</th>\n",
       "      <th>6pm-9pm _arr</th>\n",
       "      <th>9am-12pm _arr</th>\n",
       "      <th>9pm-12am _arr</th>\n",
       "    </tr>\n",
       "  </thead>\n",
       "  <tbody>\n",
       "    <tr>\n",
       "      <th>0</th>\n",
       "      <td>2015-01-01</td>\n",
       "      <td>0</td>\n",
       "      <td>13.87</td>\n",
       "      <td>0.0</td>\n",
       "      <td>0.0</td>\n",
       "      <td>0.0</td>\n",
       "      <td>31.0</td>\n",
       "      <td>39.0</td>\n",
       "      <td>27.0</td>\n",
       "      <td>240.0</td>\n",
       "      <td>...</td>\n",
       "      <td>1</td>\n",
       "      <td>0</td>\n",
       "      <td>0</td>\n",
       "      <td>0</td>\n",
       "      <td>0</td>\n",
       "      <td>0</td>\n",
       "      <td>1</td>\n",
       "      <td>0</td>\n",
       "      <td>0</td>\n",
       "      <td>0</td>\n",
       "    </tr>\n",
       "    <tr>\n",
       "      <th>1</th>\n",
       "      <td>2015-01-01</td>\n",
       "      <td>0</td>\n",
       "      <td>13.87</td>\n",
       "      <td>0.0</td>\n",
       "      <td>0.0</td>\n",
       "      <td>0.0</td>\n",
       "      <td>31.0</td>\n",
       "      <td>39.0</td>\n",
       "      <td>27.0</td>\n",
       "      <td>240.0</td>\n",
       "      <td>...</td>\n",
       "      <td>1</td>\n",
       "      <td>0</td>\n",
       "      <td>0</td>\n",
       "      <td>0</td>\n",
       "      <td>0</td>\n",
       "      <td>0</td>\n",
       "      <td>1</td>\n",
       "      <td>0</td>\n",
       "      <td>0</td>\n",
       "      <td>0</td>\n",
       "    </tr>\n",
       "    <tr>\n",
       "      <th>2</th>\n",
       "      <td>2015-01-01</td>\n",
       "      <td>2</td>\n",
       "      <td>13.87</td>\n",
       "      <td>0.0</td>\n",
       "      <td>0.0</td>\n",
       "      <td>0.0</td>\n",
       "      <td>31.0</td>\n",
       "      <td>39.0</td>\n",
       "      <td>27.0</td>\n",
       "      <td>240.0</td>\n",
       "      <td>...</td>\n",
       "      <td>1</td>\n",
       "      <td>0</td>\n",
       "      <td>0</td>\n",
       "      <td>0</td>\n",
       "      <td>0</td>\n",
       "      <td>0</td>\n",
       "      <td>0</td>\n",
       "      <td>0</td>\n",
       "      <td>1</td>\n",
       "      <td>0</td>\n",
       "    </tr>\n",
       "    <tr>\n",
       "      <th>3</th>\n",
       "      <td>2015-01-01</td>\n",
       "      <td>0</td>\n",
       "      <td>13.87</td>\n",
       "      <td>0.0</td>\n",
       "      <td>0.0</td>\n",
       "      <td>0.0</td>\n",
       "      <td>31.0</td>\n",
       "      <td>39.0</td>\n",
       "      <td>27.0</td>\n",
       "      <td>240.0</td>\n",
       "      <td>...</td>\n",
       "      <td>1</td>\n",
       "      <td>0</td>\n",
       "      <td>0</td>\n",
       "      <td>0</td>\n",
       "      <td>0</td>\n",
       "      <td>0</td>\n",
       "      <td>0</td>\n",
       "      <td>0</td>\n",
       "      <td>1</td>\n",
       "      <td>0</td>\n",
       "    </tr>\n",
       "    <tr>\n",
       "      <th>4</th>\n",
       "      <td>2015-01-01</td>\n",
       "      <td>0</td>\n",
       "      <td>13.87</td>\n",
       "      <td>0.0</td>\n",
       "      <td>0.0</td>\n",
       "      <td>0.0</td>\n",
       "      <td>31.0</td>\n",
       "      <td>39.0</td>\n",
       "      <td>27.0</td>\n",
       "      <td>240.0</td>\n",
       "      <td>...</td>\n",
       "      <td>0</td>\n",
       "      <td>0</td>\n",
       "      <td>1</td>\n",
       "      <td>0</td>\n",
       "      <td>0</td>\n",
       "      <td>0</td>\n",
       "      <td>0</td>\n",
       "      <td>0</td>\n",
       "      <td>1</td>\n",
       "      <td>0</td>\n",
       "    </tr>\n",
       "  </tbody>\n",
       "</table>\n",
       "<p>5 rows × 49 columns</p>\n",
       "</div>"
      ],
      "text/plain": [
       "         date  delay_severity  avg_wind_speed_lga  precipitation_lga  \\\n",
       "0  2015-01-01               0               13.87                0.0   \n",
       "1  2015-01-01               0               13.87                0.0   \n",
       "2  2015-01-01               2               13.87                0.0   \n",
       "3  2015-01-01               0               13.87                0.0   \n",
       "4  2015-01-01               0               13.87                0.0   \n",
       "\n",
       "   snowfall_lga  snow_depth_lga  average_temp_lga  max_temp_lga  min_temp_lga  \\\n",
       "0           0.0             0.0              31.0          39.0          27.0   \n",
       "1           0.0             0.0              31.0          39.0          27.0   \n",
       "2           0.0             0.0              31.0          39.0          27.0   \n",
       "3           0.0             0.0              31.0          39.0          27.0   \n",
       "4           0.0             0.0              31.0          39.0          27.0   \n",
       "\n",
       "   wind_direction_fastest_2min_lga  ...  6am-9am _dep  6pm-9pm _dep  \\\n",
       "0                            240.0  ...             1             0   \n",
       "1                            240.0  ...             1             0   \n",
       "2                            240.0  ...             1             0   \n",
       "3                            240.0  ...             1             0   \n",
       "4                            240.0  ...             0             0   \n",
       "\n",
       "   9am-12pm _dep  9pm-12am _dep  12pm-3pm _arr  3pm-6pm _arr  6am-9am _arr  \\\n",
       "0              0              0              0             0             1   \n",
       "1              0              0              0             0             1   \n",
       "2              0              0              0             0             0   \n",
       "3              0              0              0             0             0   \n",
       "4              1              0              0             0             0   \n",
       "\n",
       "   6pm-9pm _arr  9am-12pm _arr  9pm-12am _arr  \n",
       "0             0              0              0  \n",
       "1             0              0              0  \n",
       "2             0              1              0  \n",
       "3             0              1              0  \n",
       "4             0              1              0  \n",
       "\n",
       "[5 rows x 49 columns]"
      ]
     },
     "execution_count": 2,
     "metadata": {},
     "output_type": "execute_result"
    }
   ],
   "source": [
    "# read in the cleaned flight delay data\n",
    "flight_delay_df = pd.read_csv('../data/flight_delay_cleaned.csv')\n",
    "flight_delay_df.head()"
   ]
  },
  {
   "cell_type": "code",
   "execution_count": 3,
   "id": "90ca8858-b623-451c-8e33-8f06a402b29f",
   "metadata": {},
   "outputs": [],
   "source": [
    "# create X and y variables\n",
    "X = flight_delay_df.drop(columns=['date', 'delay_severity'])\n",
    "y = flight_delay_df['delay_severity']"
   ]
  },
  {
   "cell_type": "code",
   "execution_count": 4,
   "id": "d2ec85b1-8785-4a32-b4d0-d915330d995f",
   "metadata": {},
   "outputs": [],
   "source": [
    "# split data with train test split\n",
    "X_train, X_test, y_train, y_test = train_test_split(X,\n",
    "                                                    y,\n",
    "                                                    test_size=.2,\n",
    "                                                    stratify=y,\n",
    "                                                    random_state=96)"
   ]
  },
  {
   "cell_type": "code",
   "execution_count": 12,
   "id": "32885d00-7109-4383-89dc-734de0b5d4f6",
   "metadata": {},
   "outputs": [],
   "source": [
    "# Instantiate pipeline object with Standard Scaler and GradientBoosting Classifier\n",
    "pipe = Pipeline([\n",
    "    ('sc', StandardScaler()),\n",
    "    ('gbc', GradientBoostingClassifier())\n",
    "])\n",
    "\n",
    "# Set dictionary of hyperparameters\n",
    "pipe_params = {\n",
    "    'gbc__learning_rate'    : [0.05, 0.1, 0.2, 0.5],\n",
    "    'gbc__n_estimators'     : [100, 150, 200],\n",
    "    'gbc__subsample'         : [0.7, 0.8, 0.9, 1.0],\n",
    "    'gbc__min_samples_split': [0.1, 0.2, 0.3, 0.4],\n",
    "    'gbc__min_samples_leaf' : [0.1, 0.25, 0.5],\n",
    "    'gbc__max_depth'        : [3, 5, 8, 11, 14],\n",
    "    'gbc__random_state'     : [96],\n",
    "    'gbc__max_features'     : [0.3, 0.4, 0.5],\n",
    "    'gbc__warm_start'       : [False, True]\n",
    "}\n",
    "\n",
    "# Instatiate Randomized Search object (optimize for recall)\n",
    "rs_gbc = RandomizedSearchCV(estimator = pipe,\n",
    "                            param_distributions = pipe_params,\n",
    "                            n_iter = 60,\n",
    "                            n_jobs = -2,\n",
    "                            cv=5,\n",
    "                            verbose=1)"
   ]
  },
  {
   "cell_type": "code",
   "execution_count": 6,
   "id": "b8295107-bbd5-4455-88ef-a53370d96668",
   "metadata": {},
   "outputs": [
    {
     "name": "stdout",
     "output_type": "stream",
     "text": [
      "Fitting 5 folds for each of 60 candidates, totalling 300 fits\n"
     ]
    },
    {
     "data": {
      "text/plain": [
       "RandomizedSearchCV(cv=5,\n",
       "                   estimator=Pipeline(steps=[('sc', StandardScaler()),\n",
       "                                             ('gbc',\n",
       "                                              GradientBoostingClassifier())]),\n",
       "                   n_iter=60, n_jobs=-2,\n",
       "                   param_distributions={'gbc__learning_rate': [0.05, 0.1, 0.2,\n",
       "                                                               0.5],\n",
       "                                        'gbc__max_depth': [3, 5, 8, 11, 14],\n",
       "                                        'gbc__max_features': [0.3, 0.4, 0.5],\n",
       "                                        'gbc__min_samples_leaf': [0.1, 0.25,\n",
       "                                                                  0.5],\n",
       "                                        'gbc__min_samples_split': [0.1, 0.2,\n",
       "                                                                   0.3, 0.4],\n",
       "                                        'gbc__n_estimators': [100, 150, 200],\n",
       "                                        'gbc__random_state': [96],\n",
       "                                        'gbc__subsample': [0.7, 0.8, 0.9, 1.0],\n",
       "                                        'gbc__warm_start': [False, True]},\n",
       "                   verbose=1)"
      ]
     },
     "execution_count": 6,
     "metadata": {},
     "output_type": "execute_result"
    }
   ],
   "source": [
    "# Fit the RandomSearch object to the data.\n",
    "rs_gbc.fit(X_train, y_train)"
   ]
  },
  {
   "cell_type": "code",
   "execution_count": 7,
   "id": "f76f9fa3-4047-4d77-a60b-5cc3813cb38f",
   "metadata": {},
   "outputs": [
    {
     "data": {
      "text/plain": [
       "<bound method BaseSearchCV.score of RandomizedSearchCV(cv=5,\n",
       "                   estimator=Pipeline(steps=[('sc', StandardScaler()),\n",
       "                                             ('gbc',\n",
       "                                              GradientBoostingClassifier())]),\n",
       "                   n_iter=60, n_jobs=-2,\n",
       "                   param_distributions={'gbc__learning_rate': [0.05, 0.1, 0.2,\n",
       "                                                               0.5],\n",
       "                                        'gbc__max_depth': [3, 5, 8, 11, 14],\n",
       "                                        'gbc__max_features': [0.3, 0.4, 0.5],\n",
       "                                        'gbc__min_samples_leaf': [0.1, 0.25,\n",
       "                                                                  0.5],\n",
       "                                        'gbc__min_samples_split': [0.1, 0.2,\n",
       "                                                                   0.3, 0.4],\n",
       "                                        'gbc__n_estimators': [100, 150, 200],\n",
       "                                        'gbc__random_state': [96],\n",
       "                                        'gbc__subsample': [0.7, 0.8, 0.9, 1.0],\n",
       "                                        'gbc__warm_start': [False, True]},\n",
       "                   verbose=1)>"
      ]
     },
     "execution_count": 7,
     "metadata": {},
     "output_type": "execute_result"
    }
   ],
   "source": [
    "rs_gbc.score"
   ]
  },
  {
   "cell_type": "code",
   "execution_count": 8,
   "id": "5d9c82bd-720d-401b-a235-5ebf64b2bcbb",
   "metadata": {},
   "outputs": [
    {
     "name": "stdout",
     "output_type": "stream",
     "text": [
      "Train score: 0.7386626719324527\n",
      "Test score: 0.7151416122004357\n"
     ]
    }
   ],
   "source": [
    "# check the best train and test scores\n",
    "print(f'Train score: {rs_gbc.score(X_train, y_train)}')\n",
    "print(f'Test score: {rs_gbc.score(X_test, y_test)}')"
   ]
  },
  {
   "cell_type": "code",
   "execution_count": 9,
   "id": "34f578f1-b67a-456f-b114-6dcc17a02d3a",
   "metadata": {},
   "outputs": [
    {
     "name": "stdout",
     "output_type": "stream",
     "text": [
      "Recall score: 0.5264768374452865\n"
     ]
    }
   ],
   "source": [
    "# check the recall score\n",
    "preds = rs_gbc.predict(X_test)\n",
    "recall = recall_score(y_test, preds, average='macro')\n",
    "print(f'Recall score: {recall}')"
   ]
  },
  {
   "cell_type": "code",
   "execution_count": 10,
   "id": "eba62f95-b681-4065-9540-0ceaa18c8d94",
   "metadata": {},
   "outputs": [
    {
     "data": {
      "text/plain": [
       "{'gbc__warm_start': False,\n",
       " 'gbc__subsample': 0.9,\n",
       " 'gbc__random_state': 96,\n",
       " 'gbc__n_estimators': 100,\n",
       " 'gbc__min_samples_split': 0.2,\n",
       " 'gbc__min_samples_leaf': 0.1,\n",
       " 'gbc__max_features': 0.4,\n",
       " 'gbc__max_depth': 11,\n",
       " 'gbc__learning_rate': 0.5}"
      ]
     },
     "execution_count": 10,
     "metadata": {},
     "output_type": "execute_result"
    }
   ],
   "source": [
    "# view the best hyperparameters\n",
    "rs_gbc.best_params_"
   ]
  },
  {
   "cell_type": "code",
   "execution_count": 11,
   "id": "057c627c-7723-4886-b9e5-2e3ef8b50a24",
   "metadata": {},
   "outputs": [
    {
     "data": {
      "image/png": "[encoded data removed]",
      "text/plain": [
       "<Figure size 432x288 with 2 Axes>"
      ]
     },
     "metadata": {
      "needs_background": "light"
     },
     "output_type": "display_data"
    }
   ],
   "source": [
    "# plot the confusion matrix\n",
    "cm = confusion_matrix(y_test, preds)\n",
    "ConfusionMatrixDisplay(cm, display_labels=rs_gbc.classes_).plot(cmap='Blues');"
   ]
  },
  {
   "cell_type": "markdown",
   "id": "b646ccde-f848-428f-99c1-ee03e2ef94fe",
   "metadata": {},
   "source": [
    "The accuracy scores from the training and testing data from this Randomized Search did not change much compared to the scores from the model with default parameters from the preliminary modeling. The test score has increased by 0.38. However, the recall score has improved by 4%, which is the score we are optimizing for."
   ]
  },
  {
   "cell_type": "code",
   "execution_count": null,
   "id": "a5f0db07-4e3c-4c07-b41e-d8654b35f91d",
   "metadata": {},
   "outputs": [],
   "source": [
    "# # Instatiate GridSearch object\n",
    "# gs_gbc = GridSearchCV(gs_pipe,\n",
    "#                      pipe_params,\n",
    "#                      cv=5,\n",
    "#                      verbose=1)"
   ]
  }
 ],
 "metadata": {
  "kernelspec": {
   "display_name": "Python 3",
   "language": "python",
   "name": "python3"
  },
  "language_info": {
   "codemirror_mode": {
    "name": "ipython",
    "version": 3
   },
   "file_extension": ".py",
   "mimetype": "text/x-python",
   "name": "python",
   "nbconvert_exporter": "python",
   "pygments_lexer": "ipython3",
   "version": "3.8.8"
  }
 },
 "nbformat": 4,
 "nbformat_minor": 5
}
