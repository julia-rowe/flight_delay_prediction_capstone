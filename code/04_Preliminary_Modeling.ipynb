{
 "cells": [
  {
   "cell_type": "markdown",
   "id": "a1ef0e71-b6a1-46f9-867e-9aaf5d52bf76",
   "metadata": {},
   "source": [
    "# Preliminary Modeling"
   ]
  },
  {
   "cell_type": "code",
   "execution_count": 1,
   "id": "3ebb1fa8-afc3-4966-a1ff-72b97562501b",
   "metadata": {},
   "outputs": [],
   "source": [
    "# Imports\n",
    "import numpy as np\n",
    "import pandas as pd\n",
    "import matplotlib.pyplot as plt\n",
    "import seaborn as sns\n",
    "from datetime import datetime\n",
    "\n",
    "from sklearn.preprocessing import StandardScaler\n",
    "from sklearn.model_selection import train_test_split, cross_val_score, GridSearchCV, RandomizedSearchCV\n",
    "from sklearn.pipeline import Pipeline\n",
    "from sklearn.linear_model import LogisticRegression, LogisticRegressionCV\n",
    "from sklearn.tree import DecisionTreeClassifier\n",
    "from sklearn.ensemble import RandomForestClassifier, AdaBoostClassifier, GradientBoostingClassifier, ExtraTreesClassifier\n",
    "from sklearn.neighbors import KNeighborsClassifier\n",
    "from xgboost import XGBClassifier\n",
    "from sklearn.naive_bayes import BernoulliNB, MultinomialNB\n",
    "from sklearn.svm import SVC\n",
    "from sklearn.svm import LinearSVC\n",
    "from sklearn.metrics import recall_score, confusion_matrix, ConfusionMatrixDisplay, classification_report, accuracy_score, f1_score, plot_confusion_matrix\n",
    "from sklearn.metrics import roc_curve, auc, roc_auc_score"
   ]
  },
  {
   "cell_type": "code",
   "execution_count": 2,
   "id": "7f93b7d2-768e-401b-8a17-abc0a85da2b2",
   "metadata": {},
   "outputs": [
    {
     "data": {
      "text/html": [
       "<div>\n",
       "<style scoped>\n",
       "    .dataframe tbody tr th:only-of-type {\n",
       "        vertical-align: middle;\n",
       "    }\n",
       "\n",
       "    .dataframe tbody tr th {\n",
       "        vertical-align: top;\n",
       "    }\n",
       "\n",
       "    .dataframe thead th {\n",
       "        text-align: right;\n",
       "    }\n",
       "</style>\n",
       "<table border=\"1\" class=\"dataframe\">\n",
       "  <thead>\n",
       "    <tr style=\"text-align: right;\">\n",
       "      <th></th>\n",
       "      <th>date</th>\n",
       "      <th>delay_severity</th>\n",
       "      <th>avg_wind_speed_lga</th>\n",
       "      <th>precipitation_lga</th>\n",
       "      <th>snowfall_lga</th>\n",
       "      <th>snow_depth_lga</th>\n",
       "      <th>average_temp_lga</th>\n",
       "      <th>max_temp_lga</th>\n",
       "      <th>min_temp_lga</th>\n",
       "      <th>wind_direction_fastest_2min_lga</th>\n",
       "      <th>...</th>\n",
       "      <th>6am-9am _dep</th>\n",
       "      <th>6pm-9pm _dep</th>\n",
       "      <th>9am-12pm _dep</th>\n",
       "      <th>9pm-12am _dep</th>\n",
       "      <th>12pm-3pm _arr</th>\n",
       "      <th>3pm-6pm _arr</th>\n",
       "      <th>6am-9am _arr</th>\n",
       "      <th>6pm-9pm _arr</th>\n",
       "      <th>9am-12pm _arr</th>\n",
       "      <th>9pm-12am _arr</th>\n",
       "    </tr>\n",
       "  </thead>\n",
       "  <tbody>\n",
       "    <tr>\n",
       "      <th>0</th>\n",
       "      <td>2015-01-01</td>\n",
       "      <td>0</td>\n",
       "      <td>13.87</td>\n",
       "      <td>0.0</td>\n",
       "      <td>0.0</td>\n",
       "      <td>0.0</td>\n",
       "      <td>31.0</td>\n",
       "      <td>39.0</td>\n",
       "      <td>27.0</td>\n",
       "      <td>240.0</td>\n",
       "      <td>...</td>\n",
       "      <td>1</td>\n",
       "      <td>0</td>\n",
       "      <td>0</td>\n",
       "      <td>0</td>\n",
       "      <td>0</td>\n",
       "      <td>0</td>\n",
       "      <td>1</td>\n",
       "      <td>0</td>\n",
       "      <td>0</td>\n",
       "      <td>0</td>\n",
       "    </tr>\n",
       "    <tr>\n",
       "      <th>1</th>\n",
       "      <td>2015-01-01</td>\n",
       "      <td>0</td>\n",
       "      <td>13.87</td>\n",
       "      <td>0.0</td>\n",
       "      <td>0.0</td>\n",
       "      <td>0.0</td>\n",
       "      <td>31.0</td>\n",
       "      <td>39.0</td>\n",
       "      <td>27.0</td>\n",
       "      <td>240.0</td>\n",
       "      <td>...</td>\n",
       "      <td>1</td>\n",
       "      <td>0</td>\n",
       "      <td>0</td>\n",
       "      <td>0</td>\n",
       "      <td>0</td>\n",
       "      <td>0</td>\n",
       "      <td>1</td>\n",
       "      <td>0</td>\n",
       "      <td>0</td>\n",
       "      <td>0</td>\n",
       "    </tr>\n",
       "    <tr>\n",
       "      <th>2</th>\n",
       "      <td>2015-01-01</td>\n",
       "      <td>2</td>\n",
       "      <td>13.87</td>\n",
       "      <td>0.0</td>\n",
       "      <td>0.0</td>\n",
       "      <td>0.0</td>\n",
       "      <td>31.0</td>\n",
       "      <td>39.0</td>\n",
       "      <td>27.0</td>\n",
       "      <td>240.0</td>\n",
       "      <td>...</td>\n",
       "      <td>1</td>\n",
       "      <td>0</td>\n",
       "      <td>0</td>\n",
       "      <td>0</td>\n",
       "      <td>0</td>\n",
       "      <td>0</td>\n",
       "      <td>0</td>\n",
       "      <td>0</td>\n",
       "      <td>1</td>\n",
       "      <td>0</td>\n",
       "    </tr>\n",
       "    <tr>\n",
       "      <th>3</th>\n",
       "      <td>2015-01-01</td>\n",
       "      <td>0</td>\n",
       "      <td>13.87</td>\n",
       "      <td>0.0</td>\n",
       "      <td>0.0</td>\n",
       "      <td>0.0</td>\n",
       "      <td>31.0</td>\n",
       "      <td>39.0</td>\n",
       "      <td>27.0</td>\n",
       "      <td>240.0</td>\n",
       "      <td>...</td>\n",
       "      <td>1</td>\n",
       "      <td>0</td>\n",
       "      <td>0</td>\n",
       "      <td>0</td>\n",
       "      <td>0</td>\n",
       "      <td>0</td>\n",
       "      <td>0</td>\n",
       "      <td>0</td>\n",
       "      <td>1</td>\n",
       "      <td>0</td>\n",
       "    </tr>\n",
       "    <tr>\n",
       "      <th>4</th>\n",
       "      <td>2015-01-01</td>\n",
       "      <td>0</td>\n",
       "      <td>13.87</td>\n",
       "      <td>0.0</td>\n",
       "      <td>0.0</td>\n",
       "      <td>0.0</td>\n",
       "      <td>31.0</td>\n",
       "      <td>39.0</td>\n",
       "      <td>27.0</td>\n",
       "      <td>240.0</td>\n",
       "      <td>...</td>\n",
       "      <td>0</td>\n",
       "      <td>0</td>\n",
       "      <td>1</td>\n",
       "      <td>0</td>\n",
       "      <td>0</td>\n",
       "      <td>0</td>\n",
       "      <td>0</td>\n",
       "      <td>0</td>\n",
       "      <td>1</td>\n",
       "      <td>0</td>\n",
       "    </tr>\n",
       "  </tbody>\n",
       "</table>\n",
       "<p>5 rows × 49 columns</p>\n",
       "</div>"
      ],
      "text/plain": [
       "         date  delay_severity  avg_wind_speed_lga  precipitation_lga  \\\n",
       "0  2015-01-01               0               13.87                0.0   \n",
       "1  2015-01-01               0               13.87                0.0   \n",
       "2  2015-01-01               2               13.87                0.0   \n",
       "3  2015-01-01               0               13.87                0.0   \n",
       "4  2015-01-01               0               13.87                0.0   \n",
       "\n",
       "   snowfall_lga  snow_depth_lga  average_temp_lga  max_temp_lga  min_temp_lga  \\\n",
       "0           0.0             0.0              31.0          39.0          27.0   \n",
       "1           0.0             0.0              31.0          39.0          27.0   \n",
       "2           0.0             0.0              31.0          39.0          27.0   \n",
       "3           0.0             0.0              31.0          39.0          27.0   \n",
       "4           0.0             0.0              31.0          39.0          27.0   \n",
       "\n",
       "   wind_direction_fastest_2min_lga  ...  6am-9am _dep  6pm-9pm _dep  \\\n",
       "0                            240.0  ...             1             0   \n",
       "1                            240.0  ...             1             0   \n",
       "2                            240.0  ...             1             0   \n",
       "3                            240.0  ...             1             0   \n",
       "4                            240.0  ...             0             0   \n",
       "\n",
       "   9am-12pm _dep  9pm-12am _dep  12pm-3pm _arr  3pm-6pm _arr  6am-9am _arr  \\\n",
       "0              0              0              0             0             1   \n",
       "1              0              0              0             0             1   \n",
       "2              0              0              0             0             0   \n",
       "3              0              0              0             0             0   \n",
       "4              1              0              0             0             0   \n",
       "\n",
       "   6pm-9pm _arr  9am-12pm _arr  9pm-12am _arr  \n",
       "0             0              0              0  \n",
       "1             0              0              0  \n",
       "2             0              1              0  \n",
       "3             0              1              0  \n",
       "4             0              1              0  \n",
       "\n",
       "[5 rows x 49 columns]"
      ]
     },
     "execution_count": 2,
     "metadata": {},
     "output_type": "execute_result"
    }
   ],
   "source": [
    "# read in the cleaned flight delay data\n",
    "flight_delay_df = pd.read_csv('../data/flight_delay_cleaned.csv')\n",
    "flight_delay_df.head()"
   ]
  },
  {
   "cell_type": "code",
   "execution_count": 3,
   "id": "db9dc9dd-ef43-482b-a2ab-2d93562cfdfc",
   "metadata": {},
   "outputs": [],
   "source": [
    "# create X and y variables\n",
    "X = flight_delay_df.drop(columns=['date', 'delay_severity'])\n",
    "y = flight_delay_df['delay_severity']"
   ]
  },
  {
   "cell_type": "code",
   "execution_count": 4,
   "id": "b50b4949-4d21-4010-99a3-cd5a80989729",
   "metadata": {},
   "outputs": [
    {
     "data": {
      "text/plain": [
       "0.6563895849221048"
      ]
     },
     "execution_count": 4,
     "metadata": {},
     "output_type": "execute_result"
    }
   ],
   "source": [
    "# calculate the baseline score\n",
    "from sklearn.dummy import DummyClassifier\n",
    "dummy_model = DummyClassifier(strategy = 'most_frequent', random_state = 96)\n",
    "dummy_model.fit(X, y)\n",
    "dummy_model.score(X, y)"
   ]
  },
  {
   "cell_type": "code",
   "execution_count": 5,
   "id": "fcb14572-a82d-48c9-8a9c-e22001dc4c21",
   "metadata": {},
   "outputs": [],
   "source": [
    "# split the data with train test split\n",
    "X_train, X_test, y_train, y_test = train_test_split(X,\n",
    "                                                    y,\n",
    "                                                    test_size=.2,\n",
    "                                                    stratify=y,\n",
    "                                                    random_state=96)"
   ]
  },
  {
   "cell_type": "code",
   "execution_count": 6,
   "id": "e6521506-0c70-4531-b0a6-1725e066a504",
   "metadata": {},
   "outputs": [],
   "source": [
    "# scale the data\n",
    "sc = StandardScaler()\n",
    "Z_train = sc.fit_transform(X_train)\n",
    "Z_test = sc.transform(X_test)"
   ]
  },
  {
   "cell_type": "markdown",
   "id": "b7db9ec9-5bc0-4b23-8120-4e412a00138f",
   "metadata": {},
   "source": [
    "Fit multiple models to select which models to further fine tune."
   ]
  },
  {
   "cell_type": "code",
   "execution_count": 7,
   "id": "316cf638-deed-4286-ae77-57b09c6b2b67",
   "metadata": {},
   "outputs": [],
   "source": [
    "# utlilize a function to fit models with default hyperparameters and print train and test scores\n",
    "def class_pipe(model):\n",
    "    model = model()\n",
    "    model.fit(Z_train, y_train)\n",
    "    preds = model.predict(Z_test)\n",
    "    cm = confusion_matrix(y_test, preds)\n",
    "    ConfusionMatrixDisplay(cm, display_labels=model.classes_).plot(cmap='Blues');\n",
    "    train_score = model.score(Z_train, y_train)\n",
    "    test_score = model.score(Z_test, y_test)\n",
    "    recall = recall_score(y_test, preds, average='macro')\n",
    "    print(f'{model} training score: {train_score}')\n",
    "    print(f'{model} testing score: {test_score}')\n",
    "    print(f'{model} recall score: {recall}')\n",
    "    return"
   ]
  },
  {
   "cell_type": "markdown",
   "id": "17845991-c6d0-4481-b7d5-991eb44f7d4b",
   "metadata": {},
   "source": [
    "It this case, false negatives are worse than false positives. We want optimize for the true positives and decrease false negatives, so we will also use the recall (sensitivity) score in addition to the accuracy scores to evaluate each model. And since the classes are unbalanced, we will compute the recall scores with a macro-average to weigh the score of the smaller classes equally as the larger classes."
   ]
  },
  {
   "cell_type": "code",
   "execution_count": 8,
   "id": "3f9bc43f-0bac-4a73-ab4d-556fd1c219be",
   "metadata": {},
   "outputs": [
    {
     "name": "stdout",
     "output_type": "stream",
     "text": [
      "LogisticRegression() training score: 0.677652185755141\n",
      "LogisticRegression() testing score: 0.6824618736383442\n",
      "LogisticRegression() recall score: 0.42134410123919247\n"
     ]
    },
    {
     "name": "stderr",
     "output_type": "stream",
     "text": [
      "/Users/JULIA/opt/anaconda3/lib/python3.8/site-packages/sklearn/linear_model/_logistic.py:763: ConvergenceWarning: lbfgs failed to converge (status=1):\n",
      "STOP: TOTAL NO. of ITERATIONS REACHED LIMIT.\n",
      "\n",
      "Increase the number of iterations (max_iter) or scale the data as shown in:\n",
      "    https://scikit-learn.org/stable/modules/preprocessing.html\n",
      "Please also refer to the documentation for alternative solver options:\n",
      "    https://scikit-learn.org/stable/modules/linear_model.html#logistic-regression\n",
      "  n_iter_i = _check_optimize_result(\n"
     ]
    },
    {
     "data": {
      "image/png": "[encoded data removed]",
      "text/plain": [
       "<Figure size 432x288 with 2 Axes>"
      ]
     },
     "metadata": {
      "needs_background": "light"
     },
     "output_type": "display_data"
    }
   ],
   "source": [
    "class_pipe(LogisticRegression)"
   ]
  },
  {
   "cell_type": "code",
   "execution_count": 9,
   "id": "d020933a-5168-42fe-bc62-492f8251ee6c",
   "metadata": {},
   "outputs": [
    {
     "name": "stdout",
     "output_type": "stream",
     "text": [
      "DecisionTreeClassifier() training score: 0.9201961051341414\n",
      "DecisionTreeClassifier() testing score: 0.6541394335511983\n",
      "DecisionTreeClassifier() recall score: 0.5298940874882314\n"
     ]
    },
    {
     "data": {
      "image/png": "[encoded data removed]",
      "text/plain": [
       "<Figure size 432x288 with 2 Axes>"
      ]
     },
     "metadata": {
      "needs_background": "light"
     },
     "output_type": "display_data"
    }
   ],
   "source": [
    "class_pipe(DecisionTreeClassifier)"
   ]
  },
  {
   "cell_type": "code",
   "execution_count": 10,
   "id": "9ad7f6d4-557c-4c13-a350-cf7ca831d8d3",
   "metadata": {},
   "outputs": [
    {
     "name": "stdout",
     "output_type": "stream",
     "text": [
      "RandomForestClassifier() training score: 0.9201961051341414\n",
      "RandomForestClassifier() testing score: 0.6949891067538126\n",
      "RandomForestClassifier() recall score: 0.5485371644457216\n"
     ]
    },
    {
     "data": {
      "image/png": "[encoded data removed]",
      "text/plain": [
       "<Figure size 432x288 with 2 Axes>"
      ]
     },
     "metadata": {
      "needs_background": "light"
     },
     "output_type": "display_data"
    }
   ],
   "source": [
    "class_pipe(RandomForestClassifier)"
   ]
  },
  {
   "cell_type": "code",
   "execution_count": 11,
   "id": "4cee3c25-d4d7-4cf0-8eb3-dc5c20669d71",
   "metadata": {},
   "outputs": [
    {
     "name": "stdout",
     "output_type": "stream",
     "text": [
      "GradientBoostingClassifier() training score: 0.7319896500068092\n",
      "GradientBoostingClassifier() testing score: 0.7124183006535948\n",
      "GradientBoostingClassifier() recall score: 0.48585322921031054\n"
     ]
    },
    {
     "data": {
      "image/png": "[encoded data removed]",
      "text/plain": [
       "<Figure size 432x288 with 2 Axes>"
      ]
     },
     "metadata": {
      "needs_background": "light"
     },
     "output_type": "display_data"
    }
   ],
   "source": [
    "class_pipe(GradientBoostingClassifier)"
   ]
  },
  {
   "cell_type": "code",
   "execution_count": 12,
   "id": "729919de-c09f-4e56-83f2-ce3a52755761",
   "metadata": {},
   "outputs": [
    {
     "name": "stdout",
     "output_type": "stream",
     "text": [
      "AdaBoostClassifier() training score: 0.6918153343320169\n",
      "AdaBoostClassifier() testing score: 0.6840958605664488\n",
      "AdaBoostClassifier() recall score: 0.43652881865909343\n"
     ]
    },
    {
     "data": {
      "image/png": "[encoded data removed]",
      "text/plain": [
       "<Figure size 432x288 with 2 Axes>"
      ]
     },
     "metadata": {
      "needs_background": "light"
     },
     "output_type": "display_data"
    }
   ],
   "source": [
    "class_pipe(AdaBoostClassifier)"
   ]
  },
  {
   "cell_type": "code",
   "execution_count": 13,
   "id": "3d05d3de-b837-4fce-9ad5-caf02d7fc780",
   "metadata": {},
   "outputs": [
    {
     "name": "stdout",
     "output_type": "stream",
     "text": [
      "ExtraTreesClassifier() training score: 0.9201961051341414\n",
      "ExtraTreesClassifier() testing score: 0.6955337690631809\n",
      "ExtraTreesClassifier() recall score: 0.5489590995658482\n"
     ]
    },
    {
     "data": {
      "image/png": "[encoded data removed]",
      "text/plain": [
       "<Figure size 432x288 with 2 Axes>"
      ]
     },
     "metadata": {
      "needs_background": "light"
     },
     "output_type": "display_data"
    }
   ],
   "source": [
    "class_pipe(ExtraTreesClassifier)"
   ]
  },
  {
   "cell_type": "code",
   "execution_count": 14,
   "id": "005ce30e-d0a0-4ffc-88dd-9b19c852cf55",
   "metadata": {},
   "outputs": [
    {
     "name": "stdout",
     "output_type": "stream",
     "text": [
      "[20:47:23] WARNING: /opt/concourse/worker/volumes/live/7a2b9f41-3287-451b-6691-43e9a6c0910f/volume/xgboost-split_1619728204606/work/src/learner.cc:1061: Starting in XGBoost 1.3.0, the default evaluation metric used with the objective 'multi:softprob' was changed from 'merror' to 'mlogloss'. Explicitly set eval_metric if you'd like to restore the old behavior.\n"
     ]
    },
    {
     "name": "stderr",
     "output_type": "stream",
     "text": [
      "/Users/JULIA/opt/anaconda3/lib/python3.8/site-packages/xgboost/sklearn.py:888: UserWarning: The use of label encoder in XGBClassifier is deprecated and will be removed in a future release. To remove this warning, do the following: 1) Pass option use_label_encoder=False when constructing XGBClassifier object; and 2) Encode your labels (y) as integers starting with 0, i.e. 0, 1, 2, ..., [num_class - 1].\n",
      "  warnings.warn(label_encoder_deprecation_msg, UserWarning)\n"
     ]
    },
    {
     "name": "stdout",
     "output_type": "stream",
     "text": [
      "XGBClassifier(base_score=0.5, booster='gbtree', colsample_bylevel=1,\n",
      "              colsample_bynode=1, colsample_bytree=1, gamma=0, gpu_id=-1,\n",
      "              importance_type='gain', interaction_constraints='',\n",
      "              learning_rate=0.300000012, max_delta_step=0, max_depth=6,\n",
      "              min_child_weight=1, missing=nan, monotone_constraints='()',\n",
      "              n_estimators=100, n_jobs=8, num_parallel_tree=1,\n",
      "              objective='multi:softprob', random_state=0, reg_alpha=0,\n",
      "              reg_lambda=1, scale_pos_weight=None, subsample=1,\n",
      "              tree_method='exact', validate_parameters=1, verbosity=None) training score: 0.8642244314312951\n",
      "XGBClassifier(base_score=0.5, booster='gbtree', colsample_bylevel=1,\n",
      "              colsample_bynode=1, colsample_bytree=1, gamma=0, gpu_id=-1,\n",
      "              importance_type='gain', interaction_constraints='',\n",
      "              learning_rate=0.300000012, max_delta_step=0, max_depth=6,\n",
      "              min_child_weight=1, missing=nan, monotone_constraints='()',\n",
      "              n_estimators=100, n_jobs=8, num_parallel_tree=1,\n",
      "              objective='multi:softprob', random_state=0, reg_alpha=0,\n",
      "              reg_lambda=1, scale_pos_weight=None, subsample=1,\n",
      "              tree_method='exact', validate_parameters=1, verbosity=None) testing score: 0.7211328976034859\n",
      "XGBClassifier(base_score=0.5, booster='gbtree', colsample_bylevel=1,\n",
      "              colsample_bynode=1, colsample_bytree=1, gamma=0, gpu_id=-1,\n",
      "              importance_type='gain', interaction_constraints='',\n",
      "              learning_rate=0.300000012, max_delta_step=0, max_depth=6,\n",
      "              min_child_weight=1, missing=nan, monotone_constraints='()',\n",
      "              n_estimators=100, n_jobs=8, num_parallel_tree=1,\n",
      "              objective='multi:softprob', random_state=0, reg_alpha=0,\n",
      "              reg_lambda=1, scale_pos_weight=None, subsample=1,\n",
      "              tree_method='exact', validate_parameters=1, verbosity=None) recall score: 0.5661274970755907\n"
     ]
    },
    {
     "data": {
      "image/png": "[encoded data removed]",
      "text/plain": [
       "<Figure size 432x288 with 2 Axes>"
      ]
     },
     "metadata": {
      "needs_background": "light"
     },
     "output_type": "display_data"
    }
   ],
   "source": [
    "class_pipe(XGBClassifier)"
   ]
  },
  {
   "cell_type": "code",
   "execution_count": 15,
   "id": "5c5ddf24-54de-46ee-a499-02803ddd76c6",
   "metadata": {},
   "outputs": [
    {
     "name": "stdout",
     "output_type": "stream",
     "text": [
      "KNeighborsClassifier() training score: 0.7552771346860956\n",
      "KNeighborsClassifier() testing score: 0.6879084967320261\n",
      "KNeighborsClassifier() recall score: 0.47151606711616106\n"
     ]
    },
    {
     "data": {
      "image/png": "[encoded data removed]",
      "text/plain": [
       "<Figure size 432x288 with 2 Axes>"
      ]
     },
     "metadata": {
      "needs_background": "light"
     },
     "output_type": "display_data"
    }
   ],
   "source": [
    "class_pipe(KNeighborsClassifier)"
   ]
  },
  {
   "cell_type": "code",
   "execution_count": 16,
   "id": "d8e7da4f-c679-49c0-aa06-023ad023677d",
   "metadata": {},
   "outputs": [
    {
     "name": "stdout",
     "output_type": "stream",
     "text": [
      "BernoulliNB() training score: 0.6310772163965681\n",
      "BernoulliNB() testing score: 0.6410675381263616\n",
      "BernoulliNB() recall score: 0.4606632752408999\n"
     ]
    },
    {
     "data": {
      "image/png": "[encoded data removed]",
      "text/plain": [
       "<Figure size 432x288 with 2 Axes>"
      ]
     },
     "metadata": {
      "needs_background": "light"
     },
     "output_type": "display_data"
    }
   ],
   "source": [
    "class_pipe(BernoulliNB)"
   ]
  },
  {
   "cell_type": "code",
   "execution_count": 17,
   "id": "7d746b63-6713-419a-9471-4b46f20dac2b",
   "metadata": {},
   "outputs": [
    {
     "name": "stdout",
     "output_type": "stream",
     "text": [
      "SVC() training score: 0.7167370284624813\n",
      "SVC() testing score: 0.6895424836601307\n",
      "SVC() recall score: 0.4315422814091881\n"
     ]
    },
    {
     "data": {
      "image/png": "[encoded data removed]",
      "text/plain": [
       "<Figure size 432x288 with 2 Axes>"
      ]
     },
     "metadata": {
      "needs_background": "light"
     },
     "output_type": "display_data"
    }
   ],
   "source": [
    "class_pipe(SVC)"
   ]
  },
  {
   "cell_type": "markdown",
   "id": "61686bad-1737-4ee0-8ea4-f72c6ebb7030",
   "metadata": {},
   "source": [
    "The XGB Classifier had the highest recall score as 56.6% and was able classifying the minor and major delay labels correctly the most compared to the rest of the models. The train and test scores had a difference in accuracy by 14.3%, which shows the model is overfit but we may be able lower the train score by increasing bias and decreasing variance.\n",
    "\n",
    "The Gradient Boosting Classifier had the highest training and testing scores above the baseline score(65.6%) that were neither overfit or underfit. The recall scores for this model was only 48.6%, but we may be able to try to increase the performance by tuning the hyperparamters."
   ]
  }
 ],
 "metadata": {
  "kernelspec": {
   "display_name": "Python 3",
   "language": "python",
   "name": "python3"
  },
  "language_info": {
   "codemirror_mode": {
    "name": "ipython",
    "version": 3
   },
   "file_extension": ".py",
   "mimetype": "text/x-python",
   "name": "python",
   "nbconvert_exporter": "python",
   "pygments_lexer": "ipython3",
   "version": "3.8.8"
  }
 },
 "nbformat": 4,
 "nbformat_minor": 5
}
