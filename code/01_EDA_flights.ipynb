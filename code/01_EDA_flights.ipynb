{
 "cells": [
  {
   "cell_type": "markdown",
   "id": "27b2e9c0",
   "metadata": {},
   "source": [
    "# Cleaning and EDA of Flights data"
   ]
  },
  {
   "cell_type": "code",
   "execution_count": 1,
   "id": "be31c72f",
   "metadata": {},
   "outputs": [],
   "source": [
    "# Imports\n",
    "import pandas as pd\n",
    "import numpy as np\n",
    "import matplotlib.pyplot as plt\n",
    "import seaborn as sns\n",
    "from datetime import datetime"
   ]
  },
  {
   "cell_type": "code",
   "execution_count": 2,
   "id": "d0d39fc3",
   "metadata": {},
   "outputs": [
    {
     "data": {
      "text/html": [
       "<div>\n",
       "<style scoped>\n",
       "    .dataframe tbody tr th:only-of-type {\n",
       "        vertical-align: middle;\n",
       "    }\n",
       "\n",
       "    .dataframe tbody tr th {\n",
       "        vertical-align: top;\n",
       "    }\n",
       "\n",
       "    .dataframe thead th {\n",
       "        text-align: right;\n",
       "    }\n",
       "</style>\n",
       "<table border=\"1\" class=\"dataframe\">\n",
       "  <thead>\n",
       "    <tr style=\"text-align: right;\">\n",
       "      <th></th>\n",
       "      <th>YEAR</th>\n",
       "      <th>MONTH</th>\n",
       "      <th>DAY</th>\n",
       "      <th>DAY_OF_WEEK</th>\n",
       "      <th>AIRLINE</th>\n",
       "      <th>FLIGHT_NUMBER</th>\n",
       "      <th>TAIL_NUMBER</th>\n",
       "      <th>ORIGIN_AIRPORT</th>\n",
       "      <th>DESTINATION_AIRPORT</th>\n",
       "      <th>SCHEDULED_DEPARTURE</th>\n",
       "      <th>...</th>\n",
       "      <th>ARRIVAL_TIME</th>\n",
       "      <th>ARRIVAL_DELAY</th>\n",
       "      <th>DIVERTED</th>\n",
       "      <th>CANCELLED</th>\n",
       "      <th>CANCELLATION_REASON</th>\n",
       "      <th>AIR_SYSTEM_DELAY</th>\n",
       "      <th>SECURITY_DELAY</th>\n",
       "      <th>AIRLINE_DELAY</th>\n",
       "      <th>LATE_AIRCRAFT_DELAY</th>\n",
       "      <th>WEATHER_DELAY</th>\n",
       "    </tr>\n",
       "  </thead>\n",
       "  <tbody>\n",
       "    <tr>\n",
       "      <th>0</th>\n",
       "      <td>2015</td>\n",
       "      <td>1</td>\n",
       "      <td>1</td>\n",
       "      <td>4</td>\n",
       "      <td>AS</td>\n",
       "      <td>98</td>\n",
       "      <td>N407AS</td>\n",
       "      <td>ANC</td>\n",
       "      <td>SEA</td>\n",
       "      <td>5</td>\n",
       "      <td>...</td>\n",
       "      <td>408.0</td>\n",
       "      <td>-22.0</td>\n",
       "      <td>0</td>\n",
       "      <td>0</td>\n",
       "      <td>NaN</td>\n",
       "      <td>NaN</td>\n",
       "      <td>NaN</td>\n",
       "      <td>NaN</td>\n",
       "      <td>NaN</td>\n",
       "      <td>NaN</td>\n",
       "    </tr>\n",
       "    <tr>\n",
       "      <th>1</th>\n",
       "      <td>2015</td>\n",
       "      <td>1</td>\n",
       "      <td>1</td>\n",
       "      <td>4</td>\n",
       "      <td>AA</td>\n",
       "      <td>2336</td>\n",
       "      <td>N3KUAA</td>\n",
       "      <td>LAX</td>\n",
       "      <td>PBI</td>\n",
       "      <td>10</td>\n",
       "      <td>...</td>\n",
       "      <td>741.0</td>\n",
       "      <td>-9.0</td>\n",
       "      <td>0</td>\n",
       "      <td>0</td>\n",
       "      <td>NaN</td>\n",
       "      <td>NaN</td>\n",
       "      <td>NaN</td>\n",
       "      <td>NaN</td>\n",
       "      <td>NaN</td>\n",
       "      <td>NaN</td>\n",
       "    </tr>\n",
       "    <tr>\n",
       "      <th>2</th>\n",
       "      <td>2015</td>\n",
       "      <td>1</td>\n",
       "      <td>1</td>\n",
       "      <td>4</td>\n",
       "      <td>US</td>\n",
       "      <td>840</td>\n",
       "      <td>N171US</td>\n",
       "      <td>SFO</td>\n",
       "      <td>CLT</td>\n",
       "      <td>20</td>\n",
       "      <td>...</td>\n",
       "      <td>811.0</td>\n",
       "      <td>5.0</td>\n",
       "      <td>0</td>\n",
       "      <td>0</td>\n",
       "      <td>NaN</td>\n",
       "      <td>NaN</td>\n",
       "      <td>NaN</td>\n",
       "      <td>NaN</td>\n",
       "      <td>NaN</td>\n",
       "      <td>NaN</td>\n",
       "    </tr>\n",
       "    <tr>\n",
       "      <th>3</th>\n",
       "      <td>2015</td>\n",
       "      <td>1</td>\n",
       "      <td>1</td>\n",
       "      <td>4</td>\n",
       "      <td>AA</td>\n",
       "      <td>258</td>\n",
       "      <td>N3HYAA</td>\n",
       "      <td>LAX</td>\n",
       "      <td>MIA</td>\n",
       "      <td>20</td>\n",
       "      <td>...</td>\n",
       "      <td>756.0</td>\n",
       "      <td>-9.0</td>\n",
       "      <td>0</td>\n",
       "      <td>0</td>\n",
       "      <td>NaN</td>\n",
       "      <td>NaN</td>\n",
       "      <td>NaN</td>\n",
       "      <td>NaN</td>\n",
       "      <td>NaN</td>\n",
       "      <td>NaN</td>\n",
       "    </tr>\n",
       "    <tr>\n",
       "      <th>4</th>\n",
       "      <td>2015</td>\n",
       "      <td>1</td>\n",
       "      <td>1</td>\n",
       "      <td>4</td>\n",
       "      <td>AS</td>\n",
       "      <td>135</td>\n",
       "      <td>N527AS</td>\n",
       "      <td>SEA</td>\n",
       "      <td>ANC</td>\n",
       "      <td>25</td>\n",
       "      <td>...</td>\n",
       "      <td>259.0</td>\n",
       "      <td>-21.0</td>\n",
       "      <td>0</td>\n",
       "      <td>0</td>\n",
       "      <td>NaN</td>\n",
       "      <td>NaN</td>\n",
       "      <td>NaN</td>\n",
       "      <td>NaN</td>\n",
       "      <td>NaN</td>\n",
       "      <td>NaN</td>\n",
       "    </tr>\n",
       "  </tbody>\n",
       "</table>\n",
       "<p>5 rows × 31 columns</p>\n",
       "</div>"
      ],
      "text/plain": [
       "   YEAR  MONTH  DAY  DAY_OF_WEEK AIRLINE  FLIGHT_NUMBER TAIL_NUMBER  \\\n",
       "0  2015      1    1            4      AS             98      N407AS   \n",
       "1  2015      1    1            4      AA           2336      N3KUAA   \n",
       "2  2015      1    1            4      US            840      N171US   \n",
       "3  2015      1    1            4      AA            258      N3HYAA   \n",
       "4  2015      1    1            4      AS            135      N527AS   \n",
       "\n",
       "  ORIGIN_AIRPORT DESTINATION_AIRPORT  SCHEDULED_DEPARTURE  ...  ARRIVAL_TIME  \\\n",
       "0            ANC                 SEA                    5  ...         408.0   \n",
       "1            LAX                 PBI                   10  ...         741.0   \n",
       "2            SFO                 CLT                   20  ...         811.0   \n",
       "3            LAX                 MIA                   20  ...         756.0   \n",
       "4            SEA                 ANC                   25  ...         259.0   \n",
       "\n",
       "   ARRIVAL_DELAY  DIVERTED  CANCELLED  CANCELLATION_REASON  AIR_SYSTEM_DELAY  \\\n",
       "0          -22.0         0          0                  NaN               NaN   \n",
       "1           -9.0         0          0                  NaN               NaN   \n",
       "2            5.0         0          0                  NaN               NaN   \n",
       "3           -9.0         0          0                  NaN               NaN   \n",
       "4          -21.0         0          0                  NaN               NaN   \n",
       "\n",
       "   SECURITY_DELAY  AIRLINE_DELAY  LATE_AIRCRAFT_DELAY  WEATHER_DELAY  \n",
       "0             NaN            NaN                  NaN            NaN  \n",
       "1             NaN            NaN                  NaN            NaN  \n",
       "2             NaN            NaN                  NaN            NaN  \n",
       "3             NaN            NaN                  NaN            NaN  \n",
       "4             NaN            NaN                  NaN            NaN  \n",
       "\n",
       "[5 rows x 31 columns]"
      ]
     },
     "execution_count": 2,
     "metadata": {},
     "output_type": "execute_result"
    }
   ],
   "source": [
    "# read in the flights dataset\n",
    "flights_df = pd.read_csv('../data/flights.csv', dtype={'ORIGIN_AIRPORT':str, 'DESTINATION_AIRPORT':str})\n",
    "flights_df.head()"
   ]
  },
  {
   "cell_type": "code",
   "execution_count": 3,
   "id": "54349df0",
   "metadata": {},
   "outputs": [
    {
     "data": {
      "text/plain": [
       "(5819079, 31)"
      ]
     },
     "execution_count": 3,
     "metadata": {},
     "output_type": "execute_result"
    }
   ],
   "source": [
    "flights_df.shape"
   ]
  },
  {
   "cell_type": "code",
   "execution_count": 4,
   "id": "a990f283",
   "metadata": {},
   "outputs": [
    {
     "data": {
      "text/html": [
       "<div>\n",
       "<style scoped>\n",
       "    .dataframe tbody tr th:only-of-type {\n",
       "        vertical-align: middle;\n",
       "    }\n",
       "\n",
       "    .dataframe tbody tr th {\n",
       "        vertical-align: top;\n",
       "    }\n",
       "\n",
       "    .dataframe thead th {\n",
       "        text-align: right;\n",
       "    }\n",
       "</style>\n",
       "<table border=\"1\" class=\"dataframe\">\n",
       "  <thead>\n",
       "    <tr style=\"text-align: right;\">\n",
       "      <th></th>\n",
       "      <th>YEAR</th>\n",
       "      <th>MONTH</th>\n",
       "      <th>DAY</th>\n",
       "      <th>DAY_OF_WEEK</th>\n",
       "      <th>AIRLINE</th>\n",
       "      <th>FLIGHT_NUMBER</th>\n",
       "      <th>TAIL_NUMBER</th>\n",
       "      <th>ORIGIN_AIRPORT</th>\n",
       "      <th>DESTINATION_AIRPORT</th>\n",
       "      <th>SCHEDULED_DEPARTURE</th>\n",
       "      <th>...</th>\n",
       "      <th>ARRIVAL_TIME</th>\n",
       "      <th>ARRIVAL_DELAY</th>\n",
       "      <th>DIVERTED</th>\n",
       "      <th>CANCELLED</th>\n",
       "      <th>CANCELLATION_REASON</th>\n",
       "      <th>AIR_SYSTEM_DELAY</th>\n",
       "      <th>SECURITY_DELAY</th>\n",
       "      <th>AIRLINE_DELAY</th>\n",
       "      <th>LATE_AIRCRAFT_DELAY</th>\n",
       "      <th>WEATHER_DELAY</th>\n",
       "    </tr>\n",
       "  </thead>\n",
       "  <tbody>\n",
       "  </tbody>\n",
       "</table>\n",
       "<p>0 rows × 31 columns</p>\n",
       "</div>"
      ],
      "text/plain": [
       "Empty DataFrame\n",
       "Columns: [YEAR, MONTH, DAY, DAY_OF_WEEK, AIRLINE, FLIGHT_NUMBER, TAIL_NUMBER, ORIGIN_AIRPORT, DESTINATION_AIRPORT, SCHEDULED_DEPARTURE, DEPARTURE_TIME, DEPARTURE_DELAY, TAXI_OUT, WHEELS_OFF, SCHEDULED_TIME, ELAPSED_TIME, AIR_TIME, DISTANCE, WHEELS_ON, TAXI_IN, SCHEDULED_ARRIVAL, ARRIVAL_TIME, ARRIVAL_DELAY, DIVERTED, CANCELLED, CANCELLATION_REASON, AIR_SYSTEM_DELAY, SECURITY_DELAY, AIRLINE_DELAY, LATE_AIRCRAFT_DELAY, WEATHER_DELAY]\n",
       "Index: []\n",
       "\n",
       "[0 rows x 31 columns]"
      ]
     },
     "execution_count": 4,
     "metadata": {},
     "output_type": "execute_result"
    }
   ],
   "source": [
    "# check for duplicate rows\n",
    "flights_df[flights_df.duplicated()]"
   ]
  },
  {
   "cell_type": "code",
   "execution_count": 5,
   "id": "7f43cb90",
   "metadata": {},
   "outputs": [
    {
     "data": {
      "text/plain": [
       "YEAR                     int64\n",
       "MONTH                    int64\n",
       "DAY                      int64\n",
       "DAY_OF_WEEK              int64\n",
       "AIRLINE                 object\n",
       "FLIGHT_NUMBER            int64\n",
       "TAIL_NUMBER             object\n",
       "ORIGIN_AIRPORT          object\n",
       "DESTINATION_AIRPORT     object\n",
       "SCHEDULED_DEPARTURE      int64\n",
       "DEPARTURE_TIME         float64\n",
       "DEPARTURE_DELAY        float64\n",
       "TAXI_OUT               float64\n",
       "WHEELS_OFF             float64\n",
       "SCHEDULED_TIME         float64\n",
       "ELAPSED_TIME           float64\n",
       "AIR_TIME               float64\n",
       "DISTANCE                 int64\n",
       "WHEELS_ON              float64\n",
       "TAXI_IN                float64\n",
       "SCHEDULED_ARRIVAL        int64\n",
       "ARRIVAL_TIME           float64\n",
       "ARRIVAL_DELAY          float64\n",
       "DIVERTED                 int64\n",
       "CANCELLED                int64\n",
       "CANCELLATION_REASON     object\n",
       "AIR_SYSTEM_DELAY       float64\n",
       "SECURITY_DELAY         float64\n",
       "AIRLINE_DELAY          float64\n",
       "LATE_AIRCRAFT_DELAY    float64\n",
       "WEATHER_DELAY          float64\n",
       "dtype: object"
      ]
     },
     "execution_count": 5,
     "metadata": {},
     "output_type": "execute_result"
    }
   ],
   "source": [
    "flights_df.dtypes"
   ]
  },
  {
   "cell_type": "code",
   "execution_count": null,
   "id": "f9e74422-9733-4b3b-a5fd-f9b2ea9cb87f",
   "metadata": {},
   "outputs": [],
   "source": []
  },
  {
   "cell_type": "code",
   "execution_count": 6,
   "id": "bb7df9b3",
   "metadata": {},
   "outputs": [
    {
     "data": {
      "text/plain": [
       "ATL      346836\n",
       "ORD      285884\n",
       "DFW      239551\n",
       "DEN      196055\n",
       "LAX      194673\n",
       "          ...  \n",
       "13541        11\n",
       "10165         9\n",
       "14222         9\n",
       "13502         6\n",
       "11503         4\n",
       "Name: ORIGIN_AIRPORT, Length: 628, dtype: int64"
      ]
     },
     "execution_count": 6,
     "metadata": {},
     "output_type": "execute_result"
    }
   ],
   "source": [
    "flights_df['ORIGIN_AIRPORT'].value_counts()"
   ]
  },
  {
   "cell_type": "code",
   "execution_count": 7,
   "id": "7d22d4ba",
   "metadata": {},
   "outputs": [
    {
     "data": {
      "text/plain": [
       "ATL      346904\n",
       "ORD      285906\n",
       "DFW      239582\n",
       "DEN      196010\n",
       "LAX      194696\n",
       "          ...  \n",
       "10165         9\n",
       "14222         9\n",
       "13502         7\n",
       "11503         3\n",
       "10666         1\n",
       "Name: DESTINATION_AIRPORT, Length: 629, dtype: int64"
      ]
     },
     "execution_count": 7,
     "metadata": {},
     "output_type": "execute_result"
    }
   ],
   "source": [
    "flights_df['DESTINATION_AIRPORT'].value_counts()"
   ]
  },
  {
   "cell_type": "code",
   "execution_count": 8,
   "id": "ee7d45fc",
   "metadata": {},
   "outputs": [
    {
     "data": {
      "text/plain": [
       "LGA    9575\n",
       "LAX    7941\n",
       "DFW    7677\n",
       "SFO    7378\n",
       "BOS    6558\n",
       "       ... \n",
       "STT      46\n",
       "HDN      23\n",
       "GUC      19\n",
       "COD       9\n",
       "GJT       2\n",
       "Name: DESTINATION_AIRPORT, Length: 162, dtype: int64"
      ]
     },
     "execution_count": 8,
     "metadata": {},
     "output_type": "execute_result"
    }
   ],
   "source": [
    "flights_df[flights_df['ORIGIN_AIRPORT'] == 'ORD']['DESTINATION_AIRPORT'].value_counts()"
   ]
  },
  {
   "cell_type": "code",
   "execution_count": 9,
   "id": "073a25c8",
   "metadata": {},
   "outputs": [
    {
     "data": {
      "text/plain": [
       "LGA    9639\n",
       "LAX    8256\n",
       "DFW    7870\n",
       "SFO    7380\n",
       "BOS    6551\n",
       "       ... \n",
       "STT      46\n",
       "HDN      23\n",
       "GUC      19\n",
       "COD       9\n",
       "MSO       2\n",
       "Name: ORIGIN_AIRPORT, Length: 162, dtype: int64"
      ]
     },
     "execution_count": 9,
     "metadata": {},
     "output_type": "execute_result"
    }
   ],
   "source": [
    "flights_df[flights_df['DESTINATION_AIRPORT'] == 'ORD']['ORIGIN_AIRPORT'].value_counts()"
   ]
  },
  {
   "cell_type": "code",
   "execution_count": 10,
   "id": "edb6bef9-0b5d-4103-91b7-26fcb9619da6",
   "metadata": {},
   "outputs": [
    {
     "data": {
      "text/plain": [
       "9639"
      ]
     },
     "execution_count": 10,
     "metadata": {},
     "output_type": "execute_result"
    }
   ],
   "source": [
    "lga_ord_df = flights_df.loc[(flights_df['ORIGIN_AIRPORT'] == 'LGA') & (flights_df['DESTINATION_AIRPORT'] == 'ORD')]\n",
    "len(lga_ord_df)"
   ]
  },
  {
   "cell_type": "code",
   "execution_count": 11,
   "id": "c260b0e3-de31-47f1-b5de-e460ebc0852d",
   "metadata": {},
   "outputs": [
    {
     "data": {
      "text/plain": [
       "YEAR                      0\n",
       "MONTH                     0\n",
       "DAY                       0\n",
       "DAY_OF_WEEK               0\n",
       "AIRLINE                   0\n",
       "FLIGHT_NUMBER             0\n",
       "TAIL_NUMBER             210\n",
       "ORIGIN_AIRPORT            0\n",
       "DESTINATION_AIRPORT       0\n",
       "SCHEDULED_DEPARTURE       0\n",
       "DEPARTURE_TIME          424\n",
       "DEPARTURE_DELAY         424\n",
       "TAXI_OUT                435\n",
       "WHEELS_OFF              435\n",
       "SCHEDULED_TIME            0\n",
       "ELAPSED_TIME            460\n",
       "AIR_TIME                460\n",
       "DISTANCE                  0\n",
       "WHEELS_ON               439\n",
       "TAXI_IN                 439\n",
       "SCHEDULED_ARRIVAL         0\n",
       "ARRIVAL_TIME            439\n",
       "ARRIVAL_DELAY           460\n",
       "DIVERTED                  0\n",
       "CANCELLED                 0\n",
       "CANCELLATION_REASON    9204\n",
       "AIR_SYSTEM_DELAY       7687\n",
       "SECURITY_DELAY         7687\n",
       "AIRLINE_DELAY          7687\n",
       "LATE_AIRCRAFT_DELAY    7687\n",
       "WEATHER_DELAY          7687\n",
       "dtype: int64"
      ]
     },
     "execution_count": 11,
     "metadata": {},
     "output_type": "execute_result"
    }
   ],
   "source": [
    "# check null values\n",
    "lga_ord_df.isnull().sum()"
   ]
  },
  {
   "cell_type": "code",
   "execution_count": 12,
   "id": "61c3e573-6079-44e4-873b-dfde83efcd7a",
   "metadata": {},
   "outputs": [
    {
     "data": {
      "text/plain": [
       "YEAR                   0.000000\n",
       "MONTH                  0.000000\n",
       "DAY                    0.000000\n",
       "DAY_OF_WEEK            0.000000\n",
       "AIRLINE                0.000000\n",
       "FLIGHT_NUMBER          0.000000\n",
       "TAIL_NUMBER            0.021786\n",
       "ORIGIN_AIRPORT         0.000000\n",
       "DESTINATION_AIRPORT    0.000000\n",
       "SCHEDULED_DEPARTURE    0.000000\n",
       "DEPARTURE_TIME         0.043988\n",
       "DEPARTURE_DELAY        0.043988\n",
       "TAXI_OUT               0.045129\n",
       "WHEELS_OFF             0.045129\n",
       "SCHEDULED_TIME         0.000000\n",
       "ELAPSED_TIME           0.047723\n",
       "AIR_TIME               0.047723\n",
       "DISTANCE               0.000000\n",
       "WHEELS_ON              0.045544\n",
       "TAXI_IN                0.045544\n",
       "SCHEDULED_ARRIVAL      0.000000\n",
       "ARRIVAL_TIME           0.045544\n",
       "ARRIVAL_DELAY          0.047723\n",
       "DIVERTED               0.000000\n",
       "CANCELLED              0.000000\n",
       "CANCELLATION_REASON    0.954871\n",
       "AIR_SYSTEM_DELAY       0.797489\n",
       "SECURITY_DELAY         0.797489\n",
       "AIRLINE_DELAY          0.797489\n",
       "LATE_AIRCRAFT_DELAY    0.797489\n",
       "WEATHER_DELAY          0.797489\n",
       "dtype: float64"
      ]
     },
     "execution_count": 12,
     "metadata": {},
     "output_type": "execute_result"
    }
   ],
   "source": [
    "# porportions of null values in each column\n",
    "lga_ord_df.isnull().mean()"
   ]
  },
  {
   "cell_type": "code",
   "execution_count": 13,
   "id": "c2f8508d-f392-43d6-83c2-cfb6393b054b",
   "metadata": {},
   "outputs": [],
   "source": [
    "pd.options.mode.chained_assignment = None"
   ]
  },
  {
   "cell_type": "code",
   "execution_count": 14,
   "id": "f8c2092e",
   "metadata": {},
   "outputs": [],
   "source": [
    "# drop last 6 columns that are majority null values\n",
    "drop_features = ['CANCELLATION_REASON', 'AIR_SYSTEM_DELAY', 'SECURITY_DELAY', 'AIRLINE_DELAY', 'LATE_AIRCRAFT_DELAY','WEATHER_DELAY']\n",
    "lga_ord_df.drop(columns=drop_features, inplace=True)"
   ]
  },
  {
   "cell_type": "code",
   "execution_count": 15,
   "id": "f483d4e0-c669-4a9f-9cc0-28476e0f4ec1",
   "metadata": {},
   "outputs": [
    {
     "data": {
      "text/html": [
       "<div>\n",
       "<style scoped>\n",
       "    .dataframe tbody tr th:only-of-type {\n",
       "        vertical-align: middle;\n",
       "    }\n",
       "\n",
       "    .dataframe tbody tr th {\n",
       "        vertical-align: top;\n",
       "    }\n",
       "\n",
       "    .dataframe thead th {\n",
       "        text-align: right;\n",
       "    }\n",
       "</style>\n",
       "<table border=\"1\" class=\"dataframe\">\n",
       "  <thead>\n",
       "    <tr style=\"text-align: right;\">\n",
       "      <th></th>\n",
       "      <th>YEAR</th>\n",
       "      <th>MONTH</th>\n",
       "      <th>DAY</th>\n",
       "      <th>DAY_OF_WEEK</th>\n",
       "      <th>AIRLINE</th>\n",
       "      <th>FLIGHT_NUMBER</th>\n",
       "      <th>TAIL_NUMBER</th>\n",
       "      <th>ORIGIN_AIRPORT</th>\n",
       "      <th>DESTINATION_AIRPORT</th>\n",
       "      <th>SCHEDULED_DEPARTURE</th>\n",
       "      <th>...</th>\n",
       "      <th>ELAPSED_TIME</th>\n",
       "      <th>AIR_TIME</th>\n",
       "      <th>DISTANCE</th>\n",
       "      <th>WHEELS_ON</th>\n",
       "      <th>TAXI_IN</th>\n",
       "      <th>SCHEDULED_ARRIVAL</th>\n",
       "      <th>ARRIVAL_TIME</th>\n",
       "      <th>ARRIVAL_DELAY</th>\n",
       "      <th>DIVERTED</th>\n",
       "      <th>CANCELLED</th>\n",
       "    </tr>\n",
       "  </thead>\n",
       "  <tbody>\n",
       "    <tr>\n",
       "      <th>840</th>\n",
       "      <td>2015</td>\n",
       "      <td>1</td>\n",
       "      <td>1</td>\n",
       "      <td>4</td>\n",
       "      <td>UA</td>\n",
       "      <td>463</td>\n",
       "      <td>N482UA</td>\n",
       "      <td>LGA</td>\n",
       "      <td>ORD</td>\n",
       "      <td>700</td>\n",
       "      <td>...</td>\n",
       "      <td>156.0</td>\n",
       "      <td>136.0</td>\n",
       "      <td>733</td>\n",
       "      <td>827.0</td>\n",
       "      <td>7.0</td>\n",
       "      <td>839</td>\n",
       "      <td>834.0</td>\n",
       "      <td>-5.0</td>\n",
       "      <td>0</td>\n",
       "      <td>0</td>\n",
       "    </tr>\n",
       "    <tr>\n",
       "      <th>874</th>\n",
       "      <td>2015</td>\n",
       "      <td>1</td>\n",
       "      <td>1</td>\n",
       "      <td>4</td>\n",
       "      <td>AA</td>\n",
       "      <td>315</td>\n",
       "      <td>N3MAAA</td>\n",
       "      <td>LGA</td>\n",
       "      <td>ORD</td>\n",
       "      <td>700</td>\n",
       "      <td>...</td>\n",
       "      <td>165.0</td>\n",
       "      <td>136.0</td>\n",
       "      <td>733</td>\n",
       "      <td>830.0</td>\n",
       "      <td>13.0</td>\n",
       "      <td>845</td>\n",
       "      <td>843.0</td>\n",
       "      <td>-2.0</td>\n",
       "      <td>0</td>\n",
       "      <td>0</td>\n",
       "    </tr>\n",
       "    <tr>\n",
       "      <th>2067</th>\n",
       "      <td>2015</td>\n",
       "      <td>1</td>\n",
       "      <td>1</td>\n",
       "      <td>4</td>\n",
       "      <td>NK</td>\n",
       "      <td>847</td>\n",
       "      <td>N601NK</td>\n",
       "      <td>LGA</td>\n",
       "      <td>ORD</td>\n",
       "      <td>830</td>\n",
       "      <td>...</td>\n",
       "      <td>155.0</td>\n",
       "      <td>132.0</td>\n",
       "      <td>733</td>\n",
       "      <td>1042.0</td>\n",
       "      <td>9.0</td>\n",
       "      <td>1008</td>\n",
       "      <td>1051.0</td>\n",
       "      <td>43.0</td>\n",
       "      <td>0</td>\n",
       "      <td>0</td>\n",
       "    </tr>\n",
       "    <tr>\n",
       "      <th>2241</th>\n",
       "      <td>2015</td>\n",
       "      <td>1</td>\n",
       "      <td>1</td>\n",
       "      <td>4</td>\n",
       "      <td>AA</td>\n",
       "      <td>317</td>\n",
       "      <td>N3MBAA</td>\n",
       "      <td>LGA</td>\n",
       "      <td>ORD</td>\n",
       "      <td>845</td>\n",
       "      <td>...</td>\n",
       "      <td>161.0</td>\n",
       "      <td>134.0</td>\n",
       "      <td>733</td>\n",
       "      <td>1011.0</td>\n",
       "      <td>11.0</td>\n",
       "      <td>1030</td>\n",
       "      <td>1022.0</td>\n",
       "      <td>-8.0</td>\n",
       "      <td>0</td>\n",
       "      <td>0</td>\n",
       "    </tr>\n",
       "    <tr>\n",
       "      <th>2416</th>\n",
       "      <td>2015</td>\n",
       "      <td>1</td>\n",
       "      <td>1</td>\n",
       "      <td>4</td>\n",
       "      <td>UA</td>\n",
       "      <td>711</td>\n",
       "      <td>N443UA</td>\n",
       "      <td>LGA</td>\n",
       "      <td>ORD</td>\n",
       "      <td>900</td>\n",
       "      <td>...</td>\n",
       "      <td>145.0</td>\n",
       "      <td>129.0</td>\n",
       "      <td>733</td>\n",
       "      <td>1016.0</td>\n",
       "      <td>3.0</td>\n",
       "      <td>1039</td>\n",
       "      <td>1019.0</td>\n",
       "      <td>-20.0</td>\n",
       "      <td>0</td>\n",
       "      <td>0</td>\n",
       "    </tr>\n",
       "  </tbody>\n",
       "</table>\n",
       "<p>5 rows × 25 columns</p>\n",
       "</div>"
      ],
      "text/plain": [
       "      YEAR  MONTH  DAY  DAY_OF_WEEK AIRLINE  FLIGHT_NUMBER TAIL_NUMBER  \\\n",
       "840   2015      1    1            4      UA            463      N482UA   \n",
       "874   2015      1    1            4      AA            315      N3MAAA   \n",
       "2067  2015      1    1            4      NK            847      N601NK   \n",
       "2241  2015      1    1            4      AA            317      N3MBAA   \n",
       "2416  2015      1    1            4      UA            711      N443UA   \n",
       "\n",
       "     ORIGIN_AIRPORT DESTINATION_AIRPORT  SCHEDULED_DEPARTURE  ...  \\\n",
       "840             LGA                 ORD                  700  ...   \n",
       "874             LGA                 ORD                  700  ...   \n",
       "2067            LGA                 ORD                  830  ...   \n",
       "2241            LGA                 ORD                  845  ...   \n",
       "2416            LGA                 ORD                  900  ...   \n",
       "\n",
       "      ELAPSED_TIME  AIR_TIME  DISTANCE  WHEELS_ON  TAXI_IN  SCHEDULED_ARRIVAL  \\\n",
       "840          156.0     136.0       733      827.0      7.0                839   \n",
       "874          165.0     136.0       733      830.0     13.0                845   \n",
       "2067         155.0     132.0       733     1042.0      9.0               1008   \n",
       "2241         161.0     134.0       733     1011.0     11.0               1030   \n",
       "2416         145.0     129.0       733     1016.0      3.0               1039   \n",
       "\n",
       "      ARRIVAL_TIME  ARRIVAL_DELAY  DIVERTED  CANCELLED  \n",
       "840          834.0           -5.0         0          0  \n",
       "874          843.0           -2.0         0          0  \n",
       "2067        1051.0           43.0         0          0  \n",
       "2241        1022.0           -8.0         0          0  \n",
       "2416        1019.0          -20.0         0          0  \n",
       "\n",
       "[5 rows x 25 columns]"
      ]
     },
     "execution_count": 15,
     "metadata": {},
     "output_type": "execute_result"
    }
   ],
   "source": [
    "lga_ord_df.head()"
   ]
  },
  {
   "cell_type": "code",
   "execution_count": 16,
   "id": "246008bb",
   "metadata": {
    "scrolled": true
   },
   "outputs": [
    {
     "data": {
      "text/plain": [
       "460"
      ]
     },
     "execution_count": 16,
     "metadata": {},
     "output_type": "execute_result"
    }
   ],
   "source": [
    "# check the number of rows that contain any null values\n",
    "len(lga_ord_df[lga_ord_df.isnull().any(axis=1)])"
   ]
  },
  {
   "cell_type": "code",
   "execution_count": 17,
   "id": "e0bc5d65",
   "metadata": {},
   "outputs": [
    {
     "data": {
      "text/plain": [
       "0.047722792820832034"
      ]
     },
     "execution_count": 17,
     "metadata": {},
     "output_type": "execute_result"
    }
   ],
   "source": [
    "# check the ratio of null rows to the total number of flights\n",
    "lga_ord_df[lga_ord_df.isnull().any(axis=1)].shape[0]/lga_ord_df.shape[0]"
   ]
  },
  {
   "cell_type": "markdown",
   "id": "14cbf202-0677-46c7-aee9-f68b543d5e8c",
   "metadata": {},
   "source": [
    "The remaining rows containing null values are mostly in columns related to time. The accuracy of these columns would be necessary to either calculate the level of delay or to predict delay. Since these rows with null values are less than 5% of the total data, we will drop these rows."
   ]
  },
  {
   "cell_type": "code",
   "execution_count": 18,
   "id": "747789b8",
   "metadata": {},
   "outputs": [],
   "source": [
    "drop_index = lga_ord_df[lga_ord_df.isnull().any(axis=1)].index"
   ]
  },
  {
   "cell_type": "code",
   "execution_count": 19,
   "id": "5ac2c199",
   "metadata": {},
   "outputs": [],
   "source": [
    "lga_ord_df.drop(index=drop_index, inplace=True)"
   ]
  },
  {
   "cell_type": "code",
   "execution_count": 20,
   "id": "bbb4662f",
   "metadata": {},
   "outputs": [
    {
     "data": {
      "text/plain": [
       "(9179, 25)"
      ]
     },
     "execution_count": 20,
     "metadata": {},
     "output_type": "execute_result"
    }
   ],
   "source": [
    "lga_ord_df.shape"
   ]
  },
  {
   "cell_type": "code",
   "execution_count": 21,
   "id": "0d9466f1-ce2c-4a8f-96c9-2a505c3ad9a2",
   "metadata": {},
   "outputs": [
    {
     "data": {
      "text/html": [
       "<div>\n",
       "<style scoped>\n",
       "    .dataframe tbody tr th:only-of-type {\n",
       "        vertical-align: middle;\n",
       "    }\n",
       "\n",
       "    .dataframe tbody tr th {\n",
       "        vertical-align: top;\n",
       "    }\n",
       "\n",
       "    .dataframe thead th {\n",
       "        text-align: right;\n",
       "    }\n",
       "</style>\n",
       "<table border=\"1\" class=\"dataframe\">\n",
       "  <thead>\n",
       "    <tr style=\"text-align: right;\">\n",
       "      <th></th>\n",
       "      <th>YEAR</th>\n",
       "      <th>MONTH</th>\n",
       "      <th>DAY</th>\n",
       "      <th>DAY_OF_WEEK</th>\n",
       "      <th>AIRLINE</th>\n",
       "      <th>FLIGHT_NUMBER</th>\n",
       "      <th>TAIL_NUMBER</th>\n",
       "      <th>ORIGIN_AIRPORT</th>\n",
       "      <th>DESTINATION_AIRPORT</th>\n",
       "      <th>SCHEDULED_DEPARTURE</th>\n",
       "      <th>...</th>\n",
       "      <th>ELAPSED_TIME</th>\n",
       "      <th>AIR_TIME</th>\n",
       "      <th>DISTANCE</th>\n",
       "      <th>WHEELS_ON</th>\n",
       "      <th>TAXI_IN</th>\n",
       "      <th>SCHEDULED_ARRIVAL</th>\n",
       "      <th>ARRIVAL_TIME</th>\n",
       "      <th>ARRIVAL_DELAY</th>\n",
       "      <th>DIVERTED</th>\n",
       "      <th>CANCELLED</th>\n",
       "    </tr>\n",
       "  </thead>\n",
       "  <tbody>\n",
       "    <tr>\n",
       "      <th>0</th>\n",
       "      <td>2015</td>\n",
       "      <td>1</td>\n",
       "      <td>1</td>\n",
       "      <td>4</td>\n",
       "      <td>UA</td>\n",
       "      <td>463</td>\n",
       "      <td>N482UA</td>\n",
       "      <td>LGA</td>\n",
       "      <td>ORD</td>\n",
       "      <td>700</td>\n",
       "      <td>...</td>\n",
       "      <td>156.0</td>\n",
       "      <td>136.0</td>\n",
       "      <td>733</td>\n",
       "      <td>827.0</td>\n",
       "      <td>7.0</td>\n",
       "      <td>839</td>\n",
       "      <td>834.0</td>\n",
       "      <td>-5.0</td>\n",
       "      <td>0</td>\n",
       "      <td>0</td>\n",
       "    </tr>\n",
       "    <tr>\n",
       "      <th>1</th>\n",
       "      <td>2015</td>\n",
       "      <td>1</td>\n",
       "      <td>1</td>\n",
       "      <td>4</td>\n",
       "      <td>AA</td>\n",
       "      <td>315</td>\n",
       "      <td>N3MAAA</td>\n",
       "      <td>LGA</td>\n",
       "      <td>ORD</td>\n",
       "      <td>700</td>\n",
       "      <td>...</td>\n",
       "      <td>165.0</td>\n",
       "      <td>136.0</td>\n",
       "      <td>733</td>\n",
       "      <td>830.0</td>\n",
       "      <td>13.0</td>\n",
       "      <td>845</td>\n",
       "      <td>843.0</td>\n",
       "      <td>-2.0</td>\n",
       "      <td>0</td>\n",
       "      <td>0</td>\n",
       "    </tr>\n",
       "    <tr>\n",
       "      <th>2</th>\n",
       "      <td>2015</td>\n",
       "      <td>1</td>\n",
       "      <td>1</td>\n",
       "      <td>4</td>\n",
       "      <td>NK</td>\n",
       "      <td>847</td>\n",
       "      <td>N601NK</td>\n",
       "      <td>LGA</td>\n",
       "      <td>ORD</td>\n",
       "      <td>830</td>\n",
       "      <td>...</td>\n",
       "      <td>155.0</td>\n",
       "      <td>132.0</td>\n",
       "      <td>733</td>\n",
       "      <td>1042.0</td>\n",
       "      <td>9.0</td>\n",
       "      <td>1008</td>\n",
       "      <td>1051.0</td>\n",
       "      <td>43.0</td>\n",
       "      <td>0</td>\n",
       "      <td>0</td>\n",
       "    </tr>\n",
       "    <tr>\n",
       "      <th>3</th>\n",
       "      <td>2015</td>\n",
       "      <td>1</td>\n",
       "      <td>1</td>\n",
       "      <td>4</td>\n",
       "      <td>AA</td>\n",
       "      <td>317</td>\n",
       "      <td>N3MBAA</td>\n",
       "      <td>LGA</td>\n",
       "      <td>ORD</td>\n",
       "      <td>845</td>\n",
       "      <td>...</td>\n",
       "      <td>161.0</td>\n",
       "      <td>134.0</td>\n",
       "      <td>733</td>\n",
       "      <td>1011.0</td>\n",
       "      <td>11.0</td>\n",
       "      <td>1030</td>\n",
       "      <td>1022.0</td>\n",
       "      <td>-8.0</td>\n",
       "      <td>0</td>\n",
       "      <td>0</td>\n",
       "    </tr>\n",
       "    <tr>\n",
       "      <th>4</th>\n",
       "      <td>2015</td>\n",
       "      <td>1</td>\n",
       "      <td>1</td>\n",
       "      <td>4</td>\n",
       "      <td>UA</td>\n",
       "      <td>711</td>\n",
       "      <td>N443UA</td>\n",
       "      <td>LGA</td>\n",
       "      <td>ORD</td>\n",
       "      <td>900</td>\n",
       "      <td>...</td>\n",
       "      <td>145.0</td>\n",
       "      <td>129.0</td>\n",
       "      <td>733</td>\n",
       "      <td>1016.0</td>\n",
       "      <td>3.0</td>\n",
       "      <td>1039</td>\n",
       "      <td>1019.0</td>\n",
       "      <td>-20.0</td>\n",
       "      <td>0</td>\n",
       "      <td>0</td>\n",
       "    </tr>\n",
       "  </tbody>\n",
       "</table>\n",
       "<p>5 rows × 25 columns</p>\n",
       "</div>"
      ],
      "text/plain": [
       "   YEAR  MONTH  DAY  DAY_OF_WEEK AIRLINE  FLIGHT_NUMBER TAIL_NUMBER  \\\n",
       "0  2015      1    1            4      UA            463      N482UA   \n",
       "1  2015      1    1            4      AA            315      N3MAAA   \n",
       "2  2015      1    1            4      NK            847      N601NK   \n",
       "3  2015      1    1            4      AA            317      N3MBAA   \n",
       "4  2015      1    1            4      UA            711      N443UA   \n",
       "\n",
       "  ORIGIN_AIRPORT DESTINATION_AIRPORT  SCHEDULED_DEPARTURE  ...  ELAPSED_TIME  \\\n",
       "0            LGA                 ORD                  700  ...         156.0   \n",
       "1            LGA                 ORD                  700  ...         165.0   \n",
       "2            LGA                 ORD                  830  ...         155.0   \n",
       "3            LGA                 ORD                  845  ...         161.0   \n",
       "4            LGA                 ORD                  900  ...         145.0   \n",
       "\n",
       "   AIR_TIME  DISTANCE  WHEELS_ON  TAXI_IN  SCHEDULED_ARRIVAL  ARRIVAL_TIME  \\\n",
       "0     136.0       733      827.0      7.0                839         834.0   \n",
       "1     136.0       733      830.0     13.0                845         843.0   \n",
       "2     132.0       733     1042.0      9.0               1008        1051.0   \n",
       "3     134.0       733     1011.0     11.0               1030        1022.0   \n",
       "4     129.0       733     1016.0      3.0               1039        1019.0   \n",
       "\n",
       "   ARRIVAL_DELAY  DIVERTED  CANCELLED  \n",
       "0           -5.0         0          0  \n",
       "1           -2.0         0          0  \n",
       "2           43.0         0          0  \n",
       "3           -8.0         0          0  \n",
       "4          -20.0         0          0  \n",
       "\n",
       "[5 rows x 25 columns]"
      ]
     },
     "execution_count": 21,
     "metadata": {},
     "output_type": "execute_result"
    }
   ],
   "source": [
    "lga_ord_df.reset_index(drop=True, inplace=True)\n",
    "lga_ord_df.head()"
   ]
  },
  {
   "cell_type": "code",
   "execution_count": 22,
   "id": "b997c684-6746-482c-8ca9-7063ee95c4c4",
   "metadata": {},
   "outputs": [],
   "source": [
    "# combine the year, month, day to a single DATE column.\n",
    "lga_ord_df['DATE'] = lga_ord_df[['YEAR','MONTH','DAY']].astype(str).apply('-'.join, axis=1)"
   ]
  },
  {
   "cell_type": "code",
   "execution_count": 23,
   "id": "32c3cd61-2950-41ef-b638-ee0d281a32a3",
   "metadata": {},
   "outputs": [],
   "source": [
    "lga_ord_df['DATE'] = pd.to_datetime(lga_ord_df['DATE'])"
   ]
  },
  {
   "cell_type": "code",
   "execution_count": 24,
   "id": "c83a675b-bd50-43e9-8072-2f33562c4d8d",
   "metadata": {},
   "outputs": [],
   "source": [
    "lga_ord_df.drop(columns=['YEAR','MONTH','DAY'], inplace=True)"
   ]
  },
  {
   "cell_type": "code",
   "execution_count": 25,
   "id": "d6676a68-564c-4ca5-b016-6cbb4f792645",
   "metadata": {},
   "outputs": [
    {
     "data": {
      "text/html": [
       "<div>\n",
       "<style scoped>\n",
       "    .dataframe tbody tr th:only-of-type {\n",
       "        vertical-align: middle;\n",
       "    }\n",
       "\n",
       "    .dataframe tbody tr th {\n",
       "        vertical-align: top;\n",
       "    }\n",
       "\n",
       "    .dataframe thead th {\n",
       "        text-align: right;\n",
       "    }\n",
       "</style>\n",
       "<table border=\"1\" class=\"dataframe\">\n",
       "  <thead>\n",
       "    <tr style=\"text-align: right;\">\n",
       "      <th></th>\n",
       "      <th>DAY_OF_WEEK</th>\n",
       "      <th>AIRLINE</th>\n",
       "      <th>FLIGHT_NUMBER</th>\n",
       "      <th>TAIL_NUMBER</th>\n",
       "      <th>ORIGIN_AIRPORT</th>\n",
       "      <th>DESTINATION_AIRPORT</th>\n",
       "      <th>SCHEDULED_DEPARTURE</th>\n",
       "      <th>DEPARTURE_TIME</th>\n",
       "      <th>DEPARTURE_DELAY</th>\n",
       "      <th>TAXI_OUT</th>\n",
       "      <th>...</th>\n",
       "      <th>AIR_TIME</th>\n",
       "      <th>DISTANCE</th>\n",
       "      <th>WHEELS_ON</th>\n",
       "      <th>TAXI_IN</th>\n",
       "      <th>SCHEDULED_ARRIVAL</th>\n",
       "      <th>ARRIVAL_TIME</th>\n",
       "      <th>ARRIVAL_DELAY</th>\n",
       "      <th>DIVERTED</th>\n",
       "      <th>CANCELLED</th>\n",
       "      <th>DATE</th>\n",
       "    </tr>\n",
       "  </thead>\n",
       "  <tbody>\n",
       "    <tr>\n",
       "      <th>0</th>\n",
       "      <td>4</td>\n",
       "      <td>UA</td>\n",
       "      <td>463</td>\n",
       "      <td>N482UA</td>\n",
       "      <td>LGA</td>\n",
       "      <td>ORD</td>\n",
       "      <td>700</td>\n",
       "      <td>658.0</td>\n",
       "      <td>-2.0</td>\n",
       "      <td>13.0</td>\n",
       "      <td>...</td>\n",
       "      <td>136.0</td>\n",
       "      <td>733</td>\n",
       "      <td>827.0</td>\n",
       "      <td>7.0</td>\n",
       "      <td>839</td>\n",
       "      <td>834.0</td>\n",
       "      <td>-5.0</td>\n",
       "      <td>0</td>\n",
       "      <td>0</td>\n",
       "      <td>2015-01-01</td>\n",
       "    </tr>\n",
       "    <tr>\n",
       "      <th>1</th>\n",
       "      <td>4</td>\n",
       "      <td>AA</td>\n",
       "      <td>315</td>\n",
       "      <td>N3MAAA</td>\n",
       "      <td>LGA</td>\n",
       "      <td>ORD</td>\n",
       "      <td>700</td>\n",
       "      <td>658.0</td>\n",
       "      <td>-2.0</td>\n",
       "      <td>16.0</td>\n",
       "      <td>...</td>\n",
       "      <td>136.0</td>\n",
       "      <td>733</td>\n",
       "      <td>830.0</td>\n",
       "      <td>13.0</td>\n",
       "      <td>845</td>\n",
       "      <td>843.0</td>\n",
       "      <td>-2.0</td>\n",
       "      <td>0</td>\n",
       "      <td>0</td>\n",
       "      <td>2015-01-01</td>\n",
       "    </tr>\n",
       "    <tr>\n",
       "      <th>2</th>\n",
       "      <td>4</td>\n",
       "      <td>NK</td>\n",
       "      <td>847</td>\n",
       "      <td>N601NK</td>\n",
       "      <td>LGA</td>\n",
       "      <td>ORD</td>\n",
       "      <td>830</td>\n",
       "      <td>916.0</td>\n",
       "      <td>46.0</td>\n",
       "      <td>14.0</td>\n",
       "      <td>...</td>\n",
       "      <td>132.0</td>\n",
       "      <td>733</td>\n",
       "      <td>1042.0</td>\n",
       "      <td>9.0</td>\n",
       "      <td>1008</td>\n",
       "      <td>1051.0</td>\n",
       "      <td>43.0</td>\n",
       "      <td>0</td>\n",
       "      <td>0</td>\n",
       "      <td>2015-01-01</td>\n",
       "    </tr>\n",
       "    <tr>\n",
       "      <th>3</th>\n",
       "      <td>4</td>\n",
       "      <td>AA</td>\n",
       "      <td>317</td>\n",
       "      <td>N3MBAA</td>\n",
       "      <td>LGA</td>\n",
       "      <td>ORD</td>\n",
       "      <td>845</td>\n",
       "      <td>841.0</td>\n",
       "      <td>-4.0</td>\n",
       "      <td>16.0</td>\n",
       "      <td>...</td>\n",
       "      <td>134.0</td>\n",
       "      <td>733</td>\n",
       "      <td>1011.0</td>\n",
       "      <td>11.0</td>\n",
       "      <td>1030</td>\n",
       "      <td>1022.0</td>\n",
       "      <td>-8.0</td>\n",
       "      <td>0</td>\n",
       "      <td>0</td>\n",
       "      <td>2015-01-01</td>\n",
       "    </tr>\n",
       "    <tr>\n",
       "      <th>4</th>\n",
       "      <td>4</td>\n",
       "      <td>UA</td>\n",
       "      <td>711</td>\n",
       "      <td>N443UA</td>\n",
       "      <td>LGA</td>\n",
       "      <td>ORD</td>\n",
       "      <td>900</td>\n",
       "      <td>854.0</td>\n",
       "      <td>-6.0</td>\n",
       "      <td>13.0</td>\n",
       "      <td>...</td>\n",
       "      <td>129.0</td>\n",
       "      <td>733</td>\n",
       "      <td>1016.0</td>\n",
       "      <td>3.0</td>\n",
       "      <td>1039</td>\n",
       "      <td>1019.0</td>\n",
       "      <td>-20.0</td>\n",
       "      <td>0</td>\n",
       "      <td>0</td>\n",
       "      <td>2015-01-01</td>\n",
       "    </tr>\n",
       "  </tbody>\n",
       "</table>\n",
       "<p>5 rows × 23 columns</p>\n",
       "</div>"
      ],
      "text/plain": [
       "   DAY_OF_WEEK AIRLINE  FLIGHT_NUMBER TAIL_NUMBER ORIGIN_AIRPORT  \\\n",
       "0            4      UA            463      N482UA            LGA   \n",
       "1            4      AA            315      N3MAAA            LGA   \n",
       "2            4      NK            847      N601NK            LGA   \n",
       "3            4      AA            317      N3MBAA            LGA   \n",
       "4            4      UA            711      N443UA            LGA   \n",
       "\n",
       "  DESTINATION_AIRPORT  SCHEDULED_DEPARTURE  DEPARTURE_TIME  DEPARTURE_DELAY  \\\n",
       "0                 ORD                  700           658.0             -2.0   \n",
       "1                 ORD                  700           658.0             -2.0   \n",
       "2                 ORD                  830           916.0             46.0   \n",
       "3                 ORD                  845           841.0             -4.0   \n",
       "4                 ORD                  900           854.0             -6.0   \n",
       "\n",
       "   TAXI_OUT  ...  AIR_TIME  DISTANCE  WHEELS_ON  TAXI_IN  SCHEDULED_ARRIVAL  \\\n",
       "0      13.0  ...     136.0       733      827.0      7.0                839   \n",
       "1      16.0  ...     136.0       733      830.0     13.0                845   \n",
       "2      14.0  ...     132.0       733     1042.0      9.0               1008   \n",
       "3      16.0  ...     134.0       733     1011.0     11.0               1030   \n",
       "4      13.0  ...     129.0       733     1016.0      3.0               1039   \n",
       "\n",
       "   ARRIVAL_TIME  ARRIVAL_DELAY  DIVERTED  CANCELLED       DATE  \n",
       "0         834.0           -5.0         0          0 2015-01-01  \n",
       "1         843.0           -2.0         0          0 2015-01-01  \n",
       "2        1051.0           43.0         0          0 2015-01-01  \n",
       "3        1022.0           -8.0         0          0 2015-01-01  \n",
       "4        1019.0          -20.0         0          0 2015-01-01  \n",
       "\n",
       "[5 rows x 23 columns]"
      ]
     },
     "execution_count": 25,
     "metadata": {},
     "output_type": "execute_result"
    }
   ],
   "source": [
    "lga_ord_df.head()"
   ]
  },
  {
   "cell_type": "code",
   "execution_count": 26,
   "id": "25396cf5-a72c-4085-8072-8bf5ac16ad47",
   "metadata": {},
   "outputs": [
    {
     "data": {
      "text/plain": [
       "Index(['DAY_OF_WEEK', 'AIRLINE', 'FLIGHT_NUMBER', 'TAIL_NUMBER',\n",
       "       'ORIGIN_AIRPORT', 'DESTINATION_AIRPORT', 'SCHEDULED_DEPARTURE',\n",
       "       'DEPARTURE_TIME', 'DEPARTURE_DELAY', 'TAXI_OUT', 'WHEELS_OFF',\n",
       "       'SCHEDULED_TIME', 'ELAPSED_TIME', 'AIR_TIME', 'DISTANCE', 'WHEELS_ON',\n",
       "       'TAXI_IN', 'SCHEDULED_ARRIVAL', 'ARRIVAL_TIME', 'ARRIVAL_DELAY',\n",
       "       'DIVERTED', 'CANCELLED', 'DATE'],\n",
       "      dtype='object')"
      ]
     },
     "execution_count": 26,
     "metadata": {},
     "output_type": "execute_result"
    }
   ],
   "source": [
    "lga_ord_df.columns"
   ]
  },
  {
   "cell_type": "code",
   "execution_count": 27,
   "id": "44b0b5fb-c6be-468a-943d-a38a5cb2b77d",
   "metadata": {},
   "outputs": [
    {
     "data": {
      "image/png": "[encoded data removed]",
      "text/plain": [
       "<Figure size 720x720 with 1 Axes>"
      ]
     },
     "metadata": {
      "needs_background": "light"
     },
     "output_type": "display_data"
    }
   ],
   "source": [
    "# check the distributions of the scheduled time\n",
    "lga_ord_df['SCHEDULED_TIME'].hist(figsize=(10,10))\n",
    "plt.show;"
   ]
  },
  {
   "cell_type": "markdown",
   "id": "62cd574b-c339-498e-994b-aed1246dcb9b",
   "metadata": {},
   "source": [
    "The length of the scheduled time from departure and arrival can vary between less than two hours to three hours for flights from LGA to ORD."
   ]
  },
  {
   "cell_type": "code",
   "execution_count": 28,
   "id": "62e6bf40-e95b-4add-ab6b-9173439b88ff",
   "metadata": {},
   "outputs": [
    {
     "data": {
      "text/plain": [
       "0    9179\n",
       "Name: DIVERTED, dtype: int64"
      ]
     },
     "execution_count": 28,
     "metadata": {},
     "output_type": "execute_result"
    }
   ],
   "source": [
    "# Check the number of diverted flights\n",
    "lga_ord_df['DIVERTED'].value_counts()"
   ]
  },
  {
   "cell_type": "markdown",
   "id": "f637d15f-9724-4926-a300-04892f0ee048",
   "metadata": {},
   "source": [
    "There were no diverted flights found in this specific flight route."
   ]
  },
  {
   "cell_type": "code",
   "execution_count": 29,
   "id": "8da5b9f2-1f09-4152-841f-2570b100df0e",
   "metadata": {},
   "outputs": [
    {
     "data": {
      "text/plain": [
       "0    9179\n",
       "Name: CANCELLED, dtype: int64"
      ]
     },
     "execution_count": 29,
     "metadata": {},
     "output_type": "execute_result"
    }
   ],
   "source": [
    "# Check the number of cancelled flights\n",
    "lga_ord_df['CANCELLED'].value_counts()"
   ]
  },
  {
   "cell_type": "markdown",
   "id": "922bfec9-7ee2-4bfe-99ca-84dd61d05519",
   "metadata": {},
   "source": [
    "There were no cancelled flights found in this specific flight route."
   ]
  },
  {
   "cell_type": "code",
   "execution_count": 30,
   "id": "e1947acb-3635-4420-865e-055be8df38e6",
   "metadata": {},
   "outputs": [
    {
     "data": {
      "image/png": "[encoded data removed]",
      "text/plain": [
       "<Figure size 720x720 with 1 Axes>"
      ]
     },
     "metadata": {
      "needs_background": "light"
     },
     "output_type": "display_data"
    }
   ],
   "source": [
    "# check the distributions of the arrival delay time\n",
    "lga_ord_df['ARRIVAL_DELAY'].hist(figsize=(10,10))\n",
    "plt.show;"
   ]
  },
  {
   "cell_type": "code",
   "execution_count": 31,
   "id": "ff92b80f-0da8-4f3d-bfa3-4be65b3b6df5",
   "metadata": {},
   "outputs": [
    {
     "data": {
      "image/png": "[encoded data removed]",
      "text/plain": [
       "<Figure size 720x720 with 1 Axes>"
      ]
     },
     "metadata": {
      "needs_background": "light"
     },
     "output_type": "display_data"
    }
   ],
   "source": [
    "# check the distributions of the arrival delay time for delays more than 15 minutes\n",
    "lga_ord_df[lga_ord_df['ARRIVAL_DELAY'] > 0]['ARRIVAL_DELAY'].hist(figsize=(10,10))\n",
    "plt.show;"
   ]
  },
  {
   "cell_type": "code",
   "execution_count": 32,
   "id": "33ee7558-cbd9-41b0-88f4-e07305d0edf5",
   "metadata": {},
   "outputs": [
    {
     "data": {
      "text/plain": [
       "count    3154.000000\n",
       "mean       46.637920\n",
       "std        61.621484\n",
       "min         1.000000\n",
       "25%         9.000000\n",
       "50%        22.000000\n",
       "75%        60.000000\n",
       "max       521.000000\n",
       "Name: ARRIVAL_DELAY, dtype: float64"
      ]
     },
     "execution_count": 32,
     "metadata": {},
     "output_type": "execute_result"
    }
   ],
   "source": [
    "lga_ord_df[lga_ord_df['ARRIVAL_DELAY'] > 0]['ARRIVAL_DELAY'].describe()"
   ]
  },
  {
   "cell_type": "code",
   "execution_count": 33,
   "id": "392ca03f-e603-4f3e-950a-7e1fd545f2ff",
   "metadata": {},
   "outputs": [
    {
     "data": {
      "text/plain": [
       "22.0"
      ]
     },
     "execution_count": 33,
     "metadata": {},
     "output_type": "execute_result"
    }
   ],
   "source": [
    "\n",
    "lga_ord_df[lga_ord_df['ARRIVAL_DELAY'] > 0]['ARRIVAL_DELAY'].median()"
   ]
  },
  {
   "cell_type": "markdown",
   "id": "9fbc7c37-161b-450b-9f11-0d1624b5066b",
   "metadata": {},
   "source": [
    "Delays in this flight plan can range from 0 to 500+ hours in extreme cases."
   ]
  },
  {
   "cell_type": "markdown",
   "id": "470113ea-ed1a-4d74-9f89-2a2b2341f8fa",
   "metadata": {},
   "source": [
    "We will create labels to for the amount of delay in order to build a clasiification model"
   ]
  },
  {
   "cell_type": "code",
   "execution_count": 34,
   "id": "35d82c4c-c336-4e0b-9452-018b52df30f5",
   "metadata": {},
   "outputs": [],
   "source": [
    "# create a funtion to classify delays\n",
    "def delay_severity(m):\n",
    "    if m > 30:\n",
    "        delay_type = 'major'\n",
    "    elif m > 0:\n",
    "        delay_type = 'minor'\n",
    "    else:\n",
    "        delay_type = 'on-time'\n",
    "    return delay_type"
   ]
  },
  {
   "cell_type": "code",
   "execution_count": 35,
   "id": "bcf50489-387d-48fb-9c67-b266219bb387",
   "metadata": {},
   "outputs": [],
   "source": [
    "lga_ord_df['DELAY_SEVERITY'] = lga_ord_df['ARRIVAL_DELAY'].apply(delay_severity)"
   ]
  },
  {
   "cell_type": "code",
   "execution_count": 36,
   "id": "a1cc7b3e-b3ca-48d0-9747-c40cd4c27150",
   "metadata": {},
   "outputs": [
    {
     "data": {
      "image/png": "[encoded data removed]",
      "text/plain": [
       "<Figure size 720x720 with 1 Axes>"
      ]
     },
     "metadata": {
      "needs_background": "light"
     },
     "output_type": "display_data"
    }
   ],
   "source": [
    "# check the distributions of the delay severity\n",
    "lga_ord_df['DELAY_SEVERITY'].hist(figsize=(10,10))\n",
    "plt.show;"
   ]
  },
  {
   "cell_type": "code",
   "execution_count": 37,
   "id": "eaf4b529-9ed4-43c2-8f67-ad218a09fc06",
   "metadata": {},
   "outputs": [
    {
     "data": {
      "text/plain": [
       "on-time    0.656390\n",
       "minor      0.202201\n",
       "major      0.141410\n",
       "Name: DELAY_SEVERITY, dtype: float64"
      ]
     },
     "execution_count": 37,
     "metadata": {},
     "output_type": "execute_result"
    }
   ],
   "source": [
    "# check the proportions of delay severity\n",
    "lga_ord_df['DELAY_SEVERITY'].value_counts(normalize=True)"
   ]
  },
  {
   "cell_type": "markdown",
   "id": "2b57f647-e118-43f7-b821-2609d64b1ac9",
   "metadata": {},
   "source": [
    "These will be our baseline scores for our models."
   ]
  },
  {
   "cell_type": "code",
   "execution_count": 38,
   "id": "00022e03-d259-4c62-a8da-82a6c7582779",
   "metadata": {},
   "outputs": [
    {
     "data": {
      "image/png": "[encoded data removed]",
      "text/plain": [
       "<Figure size 432x288 with 1 Axes>"
      ]
     },
     "metadata": {
      "needs_background": "light"
     },
     "output_type": "display_data"
    }
   ],
   "source": [
    "# plot the classes to vizualize data imbalance\n",
    "sns.countplot(x='DELAY_SEVERITY',\n",
    "              data=lga_ord_df,\n",
    "              order = lga_ord_df['DELAY_SEVERITY'].value_counts(normalize=True).index,\n",
    "              palette='Blues')\n",
    "plt.title('Distribution of Flight Outcome');"
   ]
  },
  {
   "cell_type": "code",
   "execution_count": 39,
   "id": "129fbde9-3f21-46b1-adf9-226b1a64967d",
   "metadata": {},
   "outputs": [],
   "source": [
    "# drop columns for data that is not known prior to each flight (except for target variable)\n",
    "# drop columns that are not relevant to our model (flight and tail numbers)\n",
    "# drop columns that contained no positive results (diverted and cancelled)\n",
    "drop_features_2 = ['FLIGHT_NUMBER', 'TAIL_NUMBER', 'ORIGIN_AIRPORT', 'DESTINATION_AIRPORT', 'DEPARTURE_TIME',\n",
    "                   'DEPARTURE_DELAY', 'TAXI_OUT', 'WHEELS_OFF','SCHEDULED_TIME', 'ELAPSED_TIME', 'AIR_TIME',\n",
    "                   'DISTANCE', 'WHEELS_ON', 'TAXI_IN', 'ARRIVAL_TIME', 'ARRIVAL_DELAY', 'DIVERTED', 'CANCELLED']\n",
    "lga_ord_df.drop(columns=drop_features_2, inplace=True)"
   ]
  },
  {
   "cell_type": "code",
   "execution_count": 40,
   "id": "01c3ed9e-19d5-4679-9b73-947fac0e6da0",
   "metadata": {},
   "outputs": [
    {
     "data": {
      "text/html": [
       "<div>\n",
       "<style scoped>\n",
       "    .dataframe tbody tr th:only-of-type {\n",
       "        vertical-align: middle;\n",
       "    }\n",
       "\n",
       "    .dataframe tbody tr th {\n",
       "        vertical-align: top;\n",
       "    }\n",
       "\n",
       "    .dataframe thead th {\n",
       "        text-align: right;\n",
       "    }\n",
       "</style>\n",
       "<table border=\"1\" class=\"dataframe\">\n",
       "  <thead>\n",
       "    <tr style=\"text-align: right;\">\n",
       "      <th></th>\n",
       "      <th>DAY_OF_WEEK</th>\n",
       "      <th>AIRLINE</th>\n",
       "      <th>SCHEDULED_DEPARTURE</th>\n",
       "      <th>SCHEDULED_ARRIVAL</th>\n",
       "      <th>DATE</th>\n",
       "      <th>DELAY_SEVERITY</th>\n",
       "    </tr>\n",
       "  </thead>\n",
       "  <tbody>\n",
       "    <tr>\n",
       "      <th>0</th>\n",
       "      <td>4</td>\n",
       "      <td>UA</td>\n",
       "      <td>700</td>\n",
       "      <td>839</td>\n",
       "      <td>2015-01-01</td>\n",
       "      <td>on-time</td>\n",
       "    </tr>\n",
       "    <tr>\n",
       "      <th>1</th>\n",
       "      <td>4</td>\n",
       "      <td>AA</td>\n",
       "      <td>700</td>\n",
       "      <td>845</td>\n",
       "      <td>2015-01-01</td>\n",
       "      <td>on-time</td>\n",
       "    </tr>\n",
       "    <tr>\n",
       "      <th>2</th>\n",
       "      <td>4</td>\n",
       "      <td>NK</td>\n",
       "      <td>830</td>\n",
       "      <td>1008</td>\n",
       "      <td>2015-01-01</td>\n",
       "      <td>major</td>\n",
       "    </tr>\n",
       "    <tr>\n",
       "      <th>3</th>\n",
       "      <td>4</td>\n",
       "      <td>AA</td>\n",
       "      <td>845</td>\n",
       "      <td>1030</td>\n",
       "      <td>2015-01-01</td>\n",
       "      <td>on-time</td>\n",
       "    </tr>\n",
       "    <tr>\n",
       "      <th>4</th>\n",
       "      <td>4</td>\n",
       "      <td>UA</td>\n",
       "      <td>900</td>\n",
       "      <td>1039</td>\n",
       "      <td>2015-01-01</td>\n",
       "      <td>on-time</td>\n",
       "    </tr>\n",
       "  </tbody>\n",
       "</table>\n",
       "</div>"
      ],
      "text/plain": [
       "   DAY_OF_WEEK AIRLINE  SCHEDULED_DEPARTURE  SCHEDULED_ARRIVAL       DATE  \\\n",
       "0            4      UA                  700                839 2015-01-01   \n",
       "1            4      AA                  700                845 2015-01-01   \n",
       "2            4      NK                  830               1008 2015-01-01   \n",
       "3            4      AA                  845               1030 2015-01-01   \n",
       "4            4      UA                  900               1039 2015-01-01   \n",
       "\n",
       "  DELAY_SEVERITY  \n",
       "0        on-time  \n",
       "1        on-time  \n",
       "2          major  \n",
       "3        on-time  \n",
       "4        on-time  "
      ]
     },
     "execution_count": 40,
     "metadata": {},
     "output_type": "execute_result"
    }
   ],
   "source": [
    "lga_ord_df.head()"
   ]
  },
  {
   "cell_type": "code",
   "execution_count": 41,
   "id": "20ab2700-6d69-416d-945f-574989eb1c16",
   "metadata": {},
   "outputs": [],
   "source": [
    "# save cleaned data into CSV file\n",
    "lga_ord_df.to_csv('../data/lga_ord_flight_delay.csv', index=False)"
   ]
  }
 ],
 "metadata": {
  "kernelspec": {
   "display_name": "Python 3",
   "language": "python",
   "name": "python3"
  },
  "language_info": {
   "codemirror_mode": {
    "name": "ipython",
    "version": 3
   },
   "file_extension": ".py",
   "mimetype": "text/x-python",
   "name": "python",
   "nbconvert_exporter": "python",
   "pygments_lexer": "ipython3",
   "version": "3.8.8"
  }
 },
 "nbformat": 4,
 "nbformat_minor": 5
}
