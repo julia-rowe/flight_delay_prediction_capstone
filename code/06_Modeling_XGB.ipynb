{
 "cells": [
  {
   "cell_type": "markdown",
   "id": "8b8fcdf3-9d98-45e9-baa4-918f12db1e0b",
   "metadata": {},
   "source": [
    "# Modeling - XGBoost"
   ]
  },
  {
   "cell_type": "code",
   "execution_count": 1,
   "id": "541a4a73-de6a-4357-ae1e-b9a8356d0c37",
   "metadata": {},
   "outputs": [],
   "source": [
    "# Imports\n",
    "import numpy as np\n",
    "import pandas as pd\n",
    "import matplotlib.pyplot as plt\n",
    "import seaborn as sns\n",
    "\n",
    "from sklearn.preprocessing import StandardScaler\n",
    "from sklearn.model_selection import train_test_split, cross_val_score, GridSearchCV, RandomizedSearchCV\n",
    "from sklearn.pipeline import Pipeline\n",
    "from xgboost import XGBClassifier\n",
    "from sklearn.metrics import recall_score, confusion_matrix, ConfusionMatrixDisplay, classification_report, accuracy_score, f1_score, plot_confusion_matrix\n",
    "from sklearn.metrics import roc_curve, auc, roc_auc_score"
   ]
  },
  {
   "cell_type": "code",
   "execution_count": 2,
   "id": "ae32a1de-91d8-437e-ab8c-e82f2c1506b1",
   "metadata": {},
   "outputs": [
    {
     "data": {
      "text/html": [
       "<div>\n",
       "<style scoped>\n",
       "    .dataframe tbody tr th:only-of-type {\n",
       "        vertical-align: middle;\n",
       "    }\n",
       "\n",
       "    .dataframe tbody tr th {\n",
       "        vertical-align: top;\n",
       "    }\n",
       "\n",
       "    .dataframe thead th {\n",
       "        text-align: right;\n",
       "    }\n",
       "</style>\n",
       "<table border=\"1\" class=\"dataframe\">\n",
       "  <thead>\n",
       "    <tr style=\"text-align: right;\">\n",
       "      <th></th>\n",
       "      <th>date</th>\n",
       "      <th>delay_severity</th>\n",
       "      <th>avg_wind_speed_lga</th>\n",
       "      <th>precipitation_lga</th>\n",
       "      <th>snowfall_lga</th>\n",
       "      <th>snow_depth_lga</th>\n",
       "      <th>average_temp_lga</th>\n",
       "      <th>max_temp_lga</th>\n",
       "      <th>min_temp_lga</th>\n",
       "      <th>wind_direction_fastest_2min_lga</th>\n",
       "      <th>...</th>\n",
       "      <th>6am-9am _dep</th>\n",
       "      <th>6pm-9pm _dep</th>\n",
       "      <th>9am-12pm _dep</th>\n",
       "      <th>9pm-12am _dep</th>\n",
       "      <th>12pm-3pm _arr</th>\n",
       "      <th>3pm-6pm _arr</th>\n",
       "      <th>6am-9am _arr</th>\n",
       "      <th>6pm-9pm _arr</th>\n",
       "      <th>9am-12pm _arr</th>\n",
       "      <th>9pm-12am _arr</th>\n",
       "    </tr>\n",
       "  </thead>\n",
       "  <tbody>\n",
       "    <tr>\n",
       "      <th>0</th>\n",
       "      <td>2015-01-01</td>\n",
       "      <td>0</td>\n",
       "      <td>13.87</td>\n",
       "      <td>0.0</td>\n",
       "      <td>0.0</td>\n",
       "      <td>0.0</td>\n",
       "      <td>31.0</td>\n",
       "      <td>39.0</td>\n",
       "      <td>27.0</td>\n",
       "      <td>240.0</td>\n",
       "      <td>...</td>\n",
       "      <td>1</td>\n",
       "      <td>0</td>\n",
       "      <td>0</td>\n",
       "      <td>0</td>\n",
       "      <td>0</td>\n",
       "      <td>0</td>\n",
       "      <td>1</td>\n",
       "      <td>0</td>\n",
       "      <td>0</td>\n",
       "      <td>0</td>\n",
       "    </tr>\n",
       "    <tr>\n",
       "      <th>1</th>\n",
       "      <td>2015-01-01</td>\n",
       "      <td>0</td>\n",
       "      <td>13.87</td>\n",
       "      <td>0.0</td>\n",
       "      <td>0.0</td>\n",
       "      <td>0.0</td>\n",
       "      <td>31.0</td>\n",
       "      <td>39.0</td>\n",
       "      <td>27.0</td>\n",
       "      <td>240.0</td>\n",
       "      <td>...</td>\n",
       "      <td>1</td>\n",
       "      <td>0</td>\n",
       "      <td>0</td>\n",
       "      <td>0</td>\n",
       "      <td>0</td>\n",
       "      <td>0</td>\n",
       "      <td>1</td>\n",
       "      <td>0</td>\n",
       "      <td>0</td>\n",
       "      <td>0</td>\n",
       "    </tr>\n",
       "    <tr>\n",
       "      <th>2</th>\n",
       "      <td>2015-01-01</td>\n",
       "      <td>2</td>\n",
       "      <td>13.87</td>\n",
       "      <td>0.0</td>\n",
       "      <td>0.0</td>\n",
       "      <td>0.0</td>\n",
       "      <td>31.0</td>\n",
       "      <td>39.0</td>\n",
       "      <td>27.0</td>\n",
       "      <td>240.0</td>\n",
       "      <td>...</td>\n",
       "      <td>1</td>\n",
       "      <td>0</td>\n",
       "      <td>0</td>\n",
       "      <td>0</td>\n",
       "      <td>0</td>\n",
       "      <td>0</td>\n",
       "      <td>0</td>\n",
       "      <td>0</td>\n",
       "      <td>1</td>\n",
       "      <td>0</td>\n",
       "    </tr>\n",
       "    <tr>\n",
       "      <th>3</th>\n",
       "      <td>2015-01-01</td>\n",
       "      <td>0</td>\n",
       "      <td>13.87</td>\n",
       "      <td>0.0</td>\n",
       "      <td>0.0</td>\n",
       "      <td>0.0</td>\n",
       "      <td>31.0</td>\n",
       "      <td>39.0</td>\n",
       "      <td>27.0</td>\n",
       "      <td>240.0</td>\n",
       "      <td>...</td>\n",
       "      <td>1</td>\n",
       "      <td>0</td>\n",
       "      <td>0</td>\n",
       "      <td>0</td>\n",
       "      <td>0</td>\n",
       "      <td>0</td>\n",
       "      <td>0</td>\n",
       "      <td>0</td>\n",
       "      <td>1</td>\n",
       "      <td>0</td>\n",
       "    </tr>\n",
       "    <tr>\n",
       "      <th>4</th>\n",
       "      <td>2015-01-01</td>\n",
       "      <td>0</td>\n",
       "      <td>13.87</td>\n",
       "      <td>0.0</td>\n",
       "      <td>0.0</td>\n",
       "      <td>0.0</td>\n",
       "      <td>31.0</td>\n",
       "      <td>39.0</td>\n",
       "      <td>27.0</td>\n",
       "      <td>240.0</td>\n",
       "      <td>...</td>\n",
       "      <td>0</td>\n",
       "      <td>0</td>\n",
       "      <td>1</td>\n",
       "      <td>0</td>\n",
       "      <td>0</td>\n",
       "      <td>0</td>\n",
       "      <td>0</td>\n",
       "      <td>0</td>\n",
       "      <td>1</td>\n",
       "      <td>0</td>\n",
       "    </tr>\n",
       "  </tbody>\n",
       "</table>\n",
       "<p>5 rows × 49 columns</p>\n",
       "</div>"
      ],
      "text/plain": [
       "         date  delay_severity  avg_wind_speed_lga  precipitation_lga  \\\n",
       "0  2015-01-01               0               13.87                0.0   \n",
       "1  2015-01-01               0               13.87                0.0   \n",
       "2  2015-01-01               2               13.87                0.0   \n",
       "3  2015-01-01               0               13.87                0.0   \n",
       "4  2015-01-01               0               13.87                0.0   \n",
       "\n",
       "   snowfall_lga  snow_depth_lga  average_temp_lga  max_temp_lga  min_temp_lga  \\\n",
       "0           0.0             0.0              31.0          39.0          27.0   \n",
       "1           0.0             0.0              31.0          39.0          27.0   \n",
       "2           0.0             0.0              31.0          39.0          27.0   \n",
       "3           0.0             0.0              31.0          39.0          27.0   \n",
       "4           0.0             0.0              31.0          39.0          27.0   \n",
       "\n",
       "   wind_direction_fastest_2min_lga  ...  6am-9am _dep  6pm-9pm _dep  \\\n",
       "0                            240.0  ...             1             0   \n",
       "1                            240.0  ...             1             0   \n",
       "2                            240.0  ...             1             0   \n",
       "3                            240.0  ...             1             0   \n",
       "4                            240.0  ...             0             0   \n",
       "\n",
       "   9am-12pm _dep  9pm-12am _dep  12pm-3pm _arr  3pm-6pm _arr  6am-9am _arr  \\\n",
       "0              0              0              0             0             1   \n",
       "1              0              0              0             0             1   \n",
       "2              0              0              0             0             0   \n",
       "3              0              0              0             0             0   \n",
       "4              1              0              0             0             0   \n",
       "\n",
       "   6pm-9pm _arr  9am-12pm _arr  9pm-12am _arr  \n",
       "0             0              0              0  \n",
       "1             0              0              0  \n",
       "2             0              1              0  \n",
       "3             0              1              0  \n",
       "4             0              1              0  \n",
       "\n",
       "[5 rows x 49 columns]"
      ]
     },
     "execution_count": 2,
     "metadata": {},
     "output_type": "execute_result"
    }
   ],
   "source": [
    "# read in the cleaned flight delay data\n",
    "flight_delay_df = pd.read_csv('../data/flight_delay_cleaned.csv')\n",
    "flight_delay_df.head()"
   ]
  },
  {
   "cell_type": "code",
   "execution_count": 3,
   "id": "67f4815f-45c3-4445-b0a4-e96fd13bf932",
   "metadata": {},
   "outputs": [],
   "source": [
    "# create X and y variables\n",
    "X = flight_delay_df.drop(columns=['date', 'delay_severity'])\n",
    "y = flight_delay_df['delay_severity']"
   ]
  },
  {
   "cell_type": "code",
   "execution_count": 4,
   "id": "ce687620-a20f-4903-a716-cb89a0dcff96",
   "metadata": {},
   "outputs": [],
   "source": [
    "# split data with train test split\n",
    "X_train, X_test, y_train, y_test = train_test_split(X,\n",
    "                                                    y,\n",
    "                                                    test_size=.2,\n",
    "                                                    stratify=y,\n",
    "                                                    random_state=96)"
   ]
  },
  {
   "cell_type": "code",
   "execution_count": 5,
   "id": "9d808efe-79cc-409e-be1b-6a4af915d984",
   "metadata": {},
   "outputs": [],
   "source": [
    "# Instantiate pipeline object with Standard Scaler and XGB Classifier\n",
    "rs_xgb_pipe = Pipeline([\n",
    "    ('sc', StandardScaler()),\n",
    "    ('xgb', XGBClassifier())\n",
    "])\n",
    "\n",
    "# Set dictionary of hyperparameters\n",
    "pipe_params = {\n",
    "    'xgb__learning_rate'    : [0.01, 0.1, 0.2, 0.3],\n",
    "    'xgb__n_estimators'     : [100, 150, 200, 500, 1000],\n",
    "    'xgb__min_child_weight' : [1, 3, 5, 7],\n",
    "    'xgb__max_depth'        : [3, 5, 8, 11, 14],\n",
    "    'xgb__subsample'        : [0.7, 0.8, 0.9, 1.0],\n",
    "    'xgb__colsample_bytree' : [0.7, 0.8, 0.9, 1.0],\n",
    "    'xgb__gamma'            : [0, 0.1, 0.2],\n",
    "    'xgb__scale_pos_weight' : [1],\n",
    "    'xgb__random_state'     : [96],\n",
    "    'xgb__reg_alpha'        : [0.001, 0.01, 0.05, 0.1, 1],\n",
    "    'xgb__reg_lambda'        : [1],\n",
    "}\n",
    "\n",
    "# Instatiate Randomized Search object (optimize for recall)\n",
    "rs_xgb = RandomizedSearchCV(estimator = rs_xgb_pipe,\n",
    "                            param_distributions = pipe_params,\n",
    "                            n_iter = 120,\n",
    "                            n_jobs = -2,\n",
    "                            cv=5,\n",
    "                            verbose=1)"
   ]
  },
  {
   "cell_type": "code",
   "execution_count": 6,
   "id": "c0535492-b19a-4268-9ced-c42baf4ee5d4",
   "metadata": {},
   "outputs": [
    {
     "name": "stdout",
     "output_type": "stream",
     "text": [
      "Fitting 5 folds for each of 120 candidates, totalling 600 fits\n"
     ]
    },
    {
     "name": "stderr",
     "output_type": "stream",
     "text": [
      "/Users/JULIA/opt/anaconda3/lib/python3.8/site-packages/joblib/externals/loky/process_executor.py:688: UserWarning: A worker stopped while some jobs were given to the executor. This can be caused by a too short worker timeout or by a memory leak.\n",
      "  warnings.warn(\n",
      "/Users/JULIA/opt/anaconda3/lib/python3.8/site-packages/xgboost/sklearn.py:888: UserWarning: The use of label encoder in XGBClassifier is deprecated and will be removed in a future release. To remove this warning, do the following: 1) Pass option use_label_encoder=False when constructing XGBClassifier object; and 2) Encode your labels (y) as integers starting with 0, i.e. 0, 1, 2, ..., [num_class - 1].\n",
      "  warnings.warn(label_encoder_deprecation_msg, UserWarning)\n"
     ]
    },
    {
     "name": "stdout",
     "output_type": "stream",
     "text": [
      "[23:51:08] WARNING: /opt/concourse/worker/volumes/live/7a2b9f41-3287-451b-6691-43e9a6c0910f/volume/xgboost-split_1619728204606/work/src/learner.cc:541: \n",
      "Parameters: { scale_pos_weight } might not be used.\n",
      "\n",
      "  This may not be accurate due to some parameters are only used in language bindings but\n",
      "  passed down to XGBoost core.  Or some parameters are not used but slip through this\n",
      "  verification. Please open an issue if you find above cases.\n",
      "\n",
      "\n",
      "[23:51:08] WARNING: /opt/concourse/worker/volumes/live/7a2b9f41-3287-451b-6691-43e9a6c0910f/volume/xgboost-split_1619728204606/work/src/learner.cc:1061: Starting in XGBoost 1.3.0, the default evaluation metric used with the objective 'multi:softprob' was changed from 'merror' to 'mlogloss'. Explicitly set eval_metric if you'd like to restore the old behavior.\n"
     ]
    },
    {
     "data": {
      "text/plain": [
       "RandomizedSearchCV(cv=5,\n",
       "                   estimator=Pipeline(steps=[('sc', StandardScaler()),\n",
       "                                             ('xgb',\n",
       "                                              XGBClassifier(base_score=None,\n",
       "                                                            booster=None,\n",
       "                                                            colsample_bylevel=None,\n",
       "                                                            colsample_bynode=None,\n",
       "                                                            colsample_bytree=None,\n",
       "                                                            gamma=None,\n",
       "                                                            gpu_id=None,\n",
       "                                                            importance_type='gain',\n",
       "                                                            interaction_constraints=None,\n",
       "                                                            learning_rate=None,\n",
       "                                                            max_delta_step=None,\n",
       "                                                            max_depth=None,\n",
       "                                                            min_child_weight=None,\n",
       "                                                            missing=...\n",
       "                   param_distributions={'xgb__colsample_bytree': [0.7, 0.8, 0.9,\n",
       "                                                                  1.0],\n",
       "                                        'xgb__gamma': [0, 0.1, 0.2],\n",
       "                                        'xgb__learning_rate': [0.01, 0.1, 0.2,\n",
       "                                                               0.3],\n",
       "                                        'xgb__max_depth': [3, 5, 8, 11, 14],\n",
       "                                        'xgb__min_child_weight': [1, 3, 5, 7],\n",
       "                                        'xgb__n_estimators': [100, 150, 200,\n",
       "                                                              500, 1000],\n",
       "                                        'xgb__random_state': [96],\n",
       "                                        'xgb__reg_alpha': [0.001, 0.01, 0.05,\n",
       "                                                           0.1, 1],\n",
       "                                        'xgb__reg_lambda': [1],\n",
       "                                        'xgb__scale_pos_weight': [1],\n",
       "                                        'xgb__subsample': [0.7, 0.8, 0.9, 1.0]},\n",
       "                   verbose=1)"
      ]
     },
     "execution_count": 6,
     "metadata": {},
     "output_type": "execute_result"
    }
   ],
   "source": [
    "# Fit the RandomSearch object to the data\n",
    "rs_xgb.fit(X_train, y_train)"
   ]
  },
  {
   "cell_type": "code",
   "execution_count": 7,
   "id": "52323391-c0d1-426f-8f13-f89af6869d74",
   "metadata": {},
   "outputs": [
    {
     "name": "stdout",
     "output_type": "stream",
     "text": [
      "Train score: 0.7623587089745336\n",
      "Test score: 0.7260348583877996\n"
     ]
    }
   ],
   "source": [
    "# check the best train and test scores\n",
    "print(f'Train score: {rs_xgb.score(X_train, y_train)}')\n",
    "print(f'Test score: {rs_xgb.score(X_test, y_test)}')"
   ]
  },
  {
   "cell_type": "code",
   "execution_count": 8,
   "id": "58cfa10e-3abe-4bbc-a4ce-2a53a2873da2",
   "metadata": {},
   "outputs": [
    {
     "name": "stdout",
     "output_type": "stream",
     "text": [
      "Recall score: 0.5501999696589848\n"
     ]
    }
   ],
   "source": [
    "# check the recall score\n",
    "preds = rs_xgb.predict(X_test)\n",
    "recall = recall_score(y_test, preds, average='macro')\n",
    "print(f'Recall score: {recall}')"
   ]
  },
  {
   "cell_type": "code",
   "execution_count": 9,
   "id": "6847428f-c7fb-4f70-9b79-36bc737f26f9",
   "metadata": {},
   "outputs": [
    {
     "data": {
      "text/plain": [
       "{'xgb__subsample': 0.9,\n",
       " 'xgb__scale_pos_weight': 1,\n",
       " 'xgb__reg_lambda': 1,\n",
       " 'xgb__reg_alpha': 0.001,\n",
       " 'xgb__random_state': 96,\n",
       " 'xgb__n_estimators': 500,\n",
       " 'xgb__min_child_weight': 5,\n",
       " 'xgb__max_depth': 3,\n",
       " 'xgb__learning_rate': 0.1,\n",
       " 'xgb__gamma': 0,\n",
       " 'xgb__colsample_bytree': 1.0}"
      ]
     },
     "execution_count": 9,
     "metadata": {},
     "output_type": "execute_result"
    }
   ],
   "source": [
    "# view the best hyperparameters\n",
    "rs_xgb.best_params_"
   ]
  },
  {
   "cell_type": "code",
   "execution_count": 10,
   "id": "4a98550e-75b6-4fd4-a76d-093428cb2295",
   "metadata": {},
   "outputs": [
    {
     "data": {
      "image/png": "[encoded data removed]",
      "text/plain": [
       "<Figure size 432x288 with 2 Axes>"
      ]
     },
     "metadata": {
      "needs_background": "light"
     },
     "output_type": "display_data"
    }
   ],
   "source": [
    "# plot the confusion matrix\n",
    "cm = confusion_matrix(y_test, preds)\n",
    "ConfusionMatrixDisplay(cm, display_labels=rs_xgb.classes_).plot(cmap='Blues');"
   ]
  }
 ],
 "metadata": {
  "kernelspec": {
   "display_name": "Python 3",
   "language": "python",
   "name": "python3"
  },
  "language_info": {
   "codemirror_mode": {
    "name": "ipython",
    "version": 3
   },
   "file_extension": ".py",
   "mimetype": "text/x-python",
   "name": "python",
   "nbconvert_exporter": "python",
   "pygments_lexer": "ipython3",
   "version": "3.8.8"
  }
 },
 "nbformat": 4,
 "nbformat_minor": 5
}
